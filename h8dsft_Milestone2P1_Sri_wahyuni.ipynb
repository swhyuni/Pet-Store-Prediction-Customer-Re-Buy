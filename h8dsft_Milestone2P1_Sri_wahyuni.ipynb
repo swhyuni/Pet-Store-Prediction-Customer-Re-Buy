{
 "cells": [
  {
   "cell_type": "markdown",
   "metadata": {},
   "source": [
    "# Phase 1 Milestone 2"
   ]
  },
  {
   "cell_type": "markdown",
   "metadata": {},
   "source": [
    "_Milestone ini dibuat guna mengevaluasi pembelajaran pada Hacktiv8 Data Science Fulltime Program khusus pada Phase 1._"
   ]
  },
  {
   "cell_type": "markdown",
   "metadata": {},
   "source": [
    "# 1. Perkenalan\n",
    "\n",
    "Nama: Sri Wahyuni\n",
    "\n",
    "Batch: FTDS-016-RMT"
   ]
  },
  {
   "cell_type": "markdown",
   "metadata": {},
   "source": [
    "### Dataset\n",
    "\n",
    "Dataset yang digunakan pada project ini adalah dataset yang diperoleh dari `kaggle` dengan nama `pet_score_record_2022`. [klik disini](https://www.kaggle.com/datasets/ippudkiippude/pet-store-records-2020) untuk langsung menuju dataset."
   ]
  },
  {
   "cell_type": "markdown",
   "metadata": {},
   "source": [
    "### Latar Belakang\n",
    "\n",
    "Pet shop merupakan salah satu tempat untuk menjual hewan peliharaan beserta peralatan dan perlengkapan untuk pemeliharaan hewan. Peralatan merupakan barang-barang yang cenderung wajib untuk dimiliki oleh para pemilik hewan peliharaan, sedangkan perlengkapan merupakan barang-barang yang tidak wajib dimiliki oleh para pemilik hewan atau hanya berupa barang-barang aksesoris untuk hewan. Peralatan pastinya akan habis dipakai hal ini dapat menjadi peluang supaya konsumen menjadi pelanggan atau membeli produk kembali."
   ]
  },
  {
   "cell_type": "markdown",
   "metadata": {},
   "source": [
    "### Problem Statement\n",
    "\n"
   ]
  },
  {
   "cell_type": "markdown",
   "metadata": {},
   "source": [
    "Prediksi apakah konsumen akan melakukan pembelian ulang atau tidak berdasarkan data yang sudah diperoleh"
   ]
  },
  {
   "cell_type": "markdown",
   "metadata": {},
   "source": [
    "### Penjabaran Masalah"
   ]
  },
  {
   "cell_type": "markdown",
   "metadata": {},
   "source": [
    "- Berapa persen tingkat konsumen melakukan pembelian ulang?\n",
    "- Kategori produk apa yang paling diminati?\n",
    "- Apakah produk yang harus disetujui oleh dokter memiliki pengaruh terhadap penjualan?\n",
    "- Apakah ada hubungan jenis hewan dan ukurannya?\n",
    "- Bedasarkan jenis hewan apa yang paling banyak membeli kebutuhan produk? "
   ]
  },
  {
   "cell_type": "markdown",
   "metadata": {},
   "source": [
    "### Tabel Informasi"
   ]
  },
  {
   "cell_type": "markdown",
   "metadata": {},
   "source": [
    "| **Feature** | **Keterangan** |\n",
    "|---|---|\n",
    "| Product_id |Product ID.|\n",
    "| Product_category |Category of the product.|\n",
    "| Sales |Overall sales clocked during 2020.|\n",
    "| Price |Price of the product.|\n",
    "| VAP |'Veterinary Doctor's Approval' - Does this product need a approval before sale( Say: medicines ).|\n",
    "| Vendor_id |Supplier/Vendor ID where product was sourced from.|\n",
    "| Country |Product's country of origin.|\n",
    "| Pet_size| Size of the pet.|\n",
    "| Pet_type |Type of the pet.|\n",
    "| Rating |Customers' rating collected after product's use.|\n",
    "| Re_buy |Was the product bought again ?|"
   ]
  },
  {
   "cell_type": "markdown",
   "metadata": {},
   "source": [
    "# 2. Import Libraries"
   ]
  },
  {
   "cell_type": "markdown",
   "metadata": {},
   "source": [
    "Pada Project kali ini menggunakan library **Pandas**, **Numpy**, **Matplotlib**, **Seaborn** dan **Scikit-learn**."
   ]
  },
  {
   "cell_type": "code",
   "execution_count": 66,
   "metadata": {},
   "outputs": [],
   "source": [
    "# Import Libraries\n",
    "import pandas as pd\n",
    "import numpy as np\n",
    "import matplotlib.pyplot as plt\n",
    "import seaborn as sns\n",
    "import warnings\n",
    "warnings.filterwarnings('ignore')\n",
    "from sklearn.model_selection import train_test_split\n",
    "from sklearn.preprocessing import StandardScaler, OrdinalEncoder\n",
    "from sklearn.feature_selection import SelectKBest, chi2\n",
    "from sklearn.pipeline import Pipeline\n",
    "from sklearn.compose import ColumnTransformer\n",
    "from sklearn.model_selection import GridSearchCV\n",
    "from sklearn.linear_model import LogisticRegression \n",
    "from sklearn.svm import SVC\n",
    "from sklearn.tree import DecisionTreeClassifier\n",
    "from sklearn.ensemble import RandomForestClassifier\n",
    "from sklearn.neighbors import KNeighborsClassifier  \n",
    "from sklearn.metrics import classification_report, confusion_matrix, f1_score, roc_curve, roc_auc_score"
   ]
  },
  {
   "cell_type": "markdown",
   "metadata": {},
   "source": [
    "# 3. Data Loading"
   ]
  },
  {
   "cell_type": "markdown",
   "metadata": {},
   "source": [
    "Mengupload Dataset yang sudah diperoleh"
   ]
  },
  {
   "cell_type": "code",
   "execution_count": 67,
   "metadata": {},
   "outputs": [],
   "source": [
    "data = pd.read_csv(r'C:\\Users\\wSatrian\\github-classroom\\H8-Assignments-Bay\\p1---ftds-016-rmt--ml2-swhyuni\\pet_store_records_2020.csv')"
   ]
  },
  {
   "cell_type": "markdown",
   "metadata": {},
   "source": [
    "Mengecek 5 data teratas"
   ]
  },
  {
   "cell_type": "code",
   "execution_count": 68,
   "metadata": {},
   "outputs": [
    {
     "data": {
      "text/html": [
       "<div>\n",
       "<style scoped>\n",
       "    .dataframe tbody tr th:only-of-type {\n",
       "        vertical-align: middle;\n",
       "    }\n",
       "\n",
       "    .dataframe tbody tr th {\n",
       "        vertical-align: top;\n",
       "    }\n",
       "\n",
       "    .dataframe thead th {\n",
       "        text-align: right;\n",
       "    }\n",
       "</style>\n",
       "<table border=\"1\" class=\"dataframe\">\n",
       "  <thead>\n",
       "    <tr style=\"text-align: right;\">\n",
       "      <th></th>\n",
       "      <th>product_id</th>\n",
       "      <th>product_category</th>\n",
       "      <th>sales</th>\n",
       "      <th>price</th>\n",
       "      <th>VAP</th>\n",
       "      <th>vendor_id</th>\n",
       "      <th>country</th>\n",
       "      <th>pet_size</th>\n",
       "      <th>pet_type</th>\n",
       "      <th>rating</th>\n",
       "      <th>re_buy</th>\n",
       "    </tr>\n",
       "  </thead>\n",
       "  <tbody>\n",
       "    <tr>\n",
       "      <th>0</th>\n",
       "      <td>5040</td>\n",
       "      <td>Equipment</td>\n",
       "      <td>123</td>\n",
       "      <td>7293</td>\n",
       "      <td>0</td>\n",
       "      <td>VC_1605</td>\n",
       "      <td>Vietnam</td>\n",
       "      <td>small</td>\n",
       "      <td>fish</td>\n",
       "      <td>7</td>\n",
       "      <td>1</td>\n",
       "    </tr>\n",
       "    <tr>\n",
       "      <th>1</th>\n",
       "      <td>4567</td>\n",
       "      <td>Toys</td>\n",
       "      <td>61</td>\n",
       "      <td>9304</td>\n",
       "      <td>1</td>\n",
       "      <td>VC_1132</td>\n",
       "      <td>India</td>\n",
       "      <td>small</td>\n",
       "      <td>cat</td>\n",
       "      <td>10</td>\n",
       "      <td>0</td>\n",
       "    </tr>\n",
       "    <tr>\n",
       "      <th>2</th>\n",
       "      <td>4237</td>\n",
       "      <td>Toys</td>\n",
       "      <td>218</td>\n",
       "      <td>8180</td>\n",
       "      <td>0</td>\n",
       "      <td>VC_802</td>\n",
       "      <td>India</td>\n",
       "      <td>small</td>\n",
       "      <td>hamster</td>\n",
       "      <td>6</td>\n",
       "      <td>0</td>\n",
       "    </tr>\n",
       "    <tr>\n",
       "      <th>3</th>\n",
       "      <td>4364</td>\n",
       "      <td>Snack</td>\n",
       "      <td>69</td>\n",
       "      <td>18559</td>\n",
       "      <td>1</td>\n",
       "      <td>VC_929</td>\n",
       "      <td>India</td>\n",
       "      <td>large</td>\n",
       "      <td>dog</td>\n",
       "      <td>1</td>\n",
       "      <td>1</td>\n",
       "    </tr>\n",
       "    <tr>\n",
       "      <th>4</th>\n",
       "      <td>4184</td>\n",
       "      <td>Supplements</td>\n",
       "      <td>138</td>\n",
       "      <td>10283</td>\n",
       "      <td>1</td>\n",
       "      <td>VC_749</td>\n",
       "      <td>India</td>\n",
       "      <td>large</td>\n",
       "      <td>dog</td>\n",
       "      <td>10</td>\n",
       "      <td>0</td>\n",
       "    </tr>\n",
       "  </tbody>\n",
       "</table>\n",
       "</div>"
      ],
      "text/plain": [
       "   product_id product_category  sales  price  VAP vendor_id  country pet_size  \\\n",
       "0        5040        Equipment    123   7293    0   VC_1605  Vietnam    small   \n",
       "1        4567             Toys     61   9304    1   VC_1132    India    small   \n",
       "2        4237             Toys    218   8180    0    VC_802    India    small   \n",
       "3        4364            Snack     69  18559    1    VC_929    India    large   \n",
       "4        4184      Supplements    138  10283    1    VC_749    India    large   \n",
       "\n",
       "  pet_type  rating  re_buy  \n",
       "0     fish       7       1  \n",
       "1      cat      10       0  \n",
       "2  hamster       6       0  \n",
       "3      dog       1       1  \n",
       "4      dog      10       0  "
      ]
     },
     "execution_count": 68,
     "metadata": {},
     "output_type": "execute_result"
    }
   ],
   "source": [
    "data.head()"
   ]
  },
  {
   "cell_type": "markdown",
   "metadata": {},
   "source": [
    "Mengecek 5 data terbawah"
   ]
  },
  {
   "cell_type": "code",
   "execution_count": 69,
   "metadata": {},
   "outputs": [
    {
     "data": {
      "text/html": [
       "<div>\n",
       "<style scoped>\n",
       "    .dataframe tbody tr th:only-of-type {\n",
       "        vertical-align: middle;\n",
       "    }\n",
       "\n",
       "    .dataframe tbody tr th {\n",
       "        vertical-align: top;\n",
       "    }\n",
       "\n",
       "    .dataframe thead th {\n",
       "        text-align: right;\n",
       "    }\n",
       "</style>\n",
       "<table border=\"1\" class=\"dataframe\">\n",
       "  <thead>\n",
       "    <tr style=\"text-align: right;\">\n",
       "      <th></th>\n",
       "      <th>product_id</th>\n",
       "      <th>product_category</th>\n",
       "      <th>sales</th>\n",
       "      <th>price</th>\n",
       "      <th>VAP</th>\n",
       "      <th>vendor_id</th>\n",
       "      <th>country</th>\n",
       "      <th>pet_size</th>\n",
       "      <th>pet_type</th>\n",
       "      <th>rating</th>\n",
       "      <th>re_buy</th>\n",
       "    </tr>\n",
       "  </thead>\n",
       "  <tbody>\n",
       "    <tr>\n",
       "      <th>874</th>\n",
       "      <td>4999</td>\n",
       "      <td>Snack</td>\n",
       "      <td>27</td>\n",
       "      <td>11302</td>\n",
       "      <td>1</td>\n",
       "      <td>VC_1564</td>\n",
       "      <td>Germany</td>\n",
       "      <td>medium</td>\n",
       "      <td>bird</td>\n",
       "      <td>6</td>\n",
       "      <td>0</td>\n",
       "    </tr>\n",
       "    <tr>\n",
       "      <th>875</th>\n",
       "      <td>4243</td>\n",
       "      <td>Snack</td>\n",
       "      <td>76</td>\n",
       "      <td>13390</td>\n",
       "      <td>0</td>\n",
       "      <td>VC_808</td>\n",
       "      <td>India</td>\n",
       "      <td>medium</td>\n",
       "      <td>hamster</td>\n",
       "      <td>8</td>\n",
       "      <td>0</td>\n",
       "    </tr>\n",
       "    <tr>\n",
       "      <th>876</th>\n",
       "      <td>4783</td>\n",
       "      <td>Snack</td>\n",
       "      <td>162</td>\n",
       "      <td>17240</td>\n",
       "      <td>1</td>\n",
       "      <td>VC_1348</td>\n",
       "      <td>USA</td>\n",
       "      <td>medium</td>\n",
       "      <td>cat</td>\n",
       "      <td>7</td>\n",
       "      <td>1</td>\n",
       "    </tr>\n",
       "    <tr>\n",
       "      <th>877</th>\n",
       "      <td>4664</td>\n",
       "      <td>Bedding</td>\n",
       "      <td>34</td>\n",
       "      <td>15319</td>\n",
       "      <td>1</td>\n",
       "      <td>VC_1229</td>\n",
       "      <td>India</td>\n",
       "      <td>large</td>\n",
       "      <td>dog</td>\n",
       "      <td>10</td>\n",
       "      <td>1</td>\n",
       "    </tr>\n",
       "    <tr>\n",
       "      <th>878</th>\n",
       "      <td>4850</td>\n",
       "      <td>Toys</td>\n",
       "      <td>54</td>\n",
       "      <td>13219</td>\n",
       "      <td>0</td>\n",
       "      <td>VC_1415</td>\n",
       "      <td>Singapore</td>\n",
       "      <td>small</td>\n",
       "      <td>dog</td>\n",
       "      <td>1</td>\n",
       "      <td>1</td>\n",
       "    </tr>\n",
       "  </tbody>\n",
       "</table>\n",
       "</div>"
      ],
      "text/plain": [
       "     product_id product_category  sales  price  VAP vendor_id    country  \\\n",
       "874        4999            Snack     27  11302    1   VC_1564    Germany   \n",
       "875        4243            Snack     76  13390    0    VC_808      India   \n",
       "876        4783            Snack    162  17240    1   VC_1348        USA   \n",
       "877        4664          Bedding     34  15319    1   VC_1229      India   \n",
       "878        4850             Toys     54  13219    0   VC_1415  Singapore   \n",
       "\n",
       "    pet_size pet_type  rating  re_buy  \n",
       "874   medium     bird       6       0  \n",
       "875   medium  hamster       8       0  \n",
       "876   medium      cat       7       1  \n",
       "877    large      dog      10       1  \n",
       "878    small      dog       1       1  "
      ]
     },
     "execution_count": 69,
     "metadata": {},
     "output_type": "execute_result"
    }
   ],
   "source": [
    "data.tail()"
   ]
  },
  {
   "cell_type": "markdown",
   "metadata": {},
   "source": [
    "Menduplicate Dataset"
   ]
  },
  {
   "cell_type": "code",
   "execution_count": 70,
   "metadata": {},
   "outputs": [],
   "source": [
    "data_duplicate = data.copy()"
   ]
  },
  {
   "cell_type": "markdown",
   "metadata": {},
   "source": [
    "Mengecek informasi dataset"
   ]
  },
  {
   "cell_type": "code",
   "execution_count": 71,
   "metadata": {},
   "outputs": [
    {
     "name": "stdout",
     "output_type": "stream",
     "text": [
      "<class 'pandas.core.frame.DataFrame'>\n",
      "RangeIndex: 879 entries, 0 to 878\n",
      "Data columns (total 11 columns):\n",
      " #   Column            Non-Null Count  Dtype \n",
      "---  ------            --------------  ----- \n",
      " 0   product_id        879 non-null    int64 \n",
      " 1   product_category  879 non-null    object\n",
      " 2   sales             879 non-null    int64 \n",
      " 3   price             879 non-null    int64 \n",
      " 4   VAP               879 non-null    int64 \n",
      " 5   vendor_id         879 non-null    object\n",
      " 6   country           879 non-null    object\n",
      " 7   pet_size          879 non-null    object\n",
      " 8   pet_type          879 non-null    object\n",
      " 9   rating            879 non-null    int64 \n",
      " 10  re_buy            879 non-null    int64 \n",
      "dtypes: int64(6), object(5)\n",
      "memory usage: 75.7+ KB\n"
     ]
    }
   ],
   "source": [
    "data.info()"
   ]
  },
  {
   "cell_type": "markdown",
   "metadata": {},
   "source": [
    "Berdasarkan data diatas diperoleh beberapa informasi:\n",
    "- Terdapat 879 **baris**\n",
    "- Terdapat 11 **kolom**\n",
    "- Terdapat 6 data bertipe **interger**\n",
    "- Terdapat 5 data bertipe **object**\n",
    "- Tidak ada missing values"
   ]
  },
  {
   "cell_type": "code",
   "execution_count": 72,
   "metadata": {},
   "outputs": [
    {
     "data": {
      "text/html": [
       "<div>\n",
       "<style scoped>\n",
       "    .dataframe tbody tr th:only-of-type {\n",
       "        vertical-align: middle;\n",
       "    }\n",
       "\n",
       "    .dataframe tbody tr th {\n",
       "        vertical-align: top;\n",
       "    }\n",
       "\n",
       "    .dataframe thead th {\n",
       "        text-align: right;\n",
       "    }\n",
       "</style>\n",
       "<table border=\"1\" class=\"dataframe\">\n",
       "  <thead>\n",
       "    <tr style=\"text-align: right;\">\n",
       "      <th></th>\n",
       "      <th>count</th>\n",
       "      <th>mean</th>\n",
       "      <th>std</th>\n",
       "      <th>min</th>\n",
       "      <th>25%</th>\n",
       "      <th>50%</th>\n",
       "      <th>75%</th>\n",
       "      <th>max</th>\n",
       "    </tr>\n",
       "  </thead>\n",
       "  <tbody>\n",
       "    <tr>\n",
       "      <th>product_id</th>\n",
       "      <td>879.0</td>\n",
       "      <td>4611.000000</td>\n",
       "      <td>253.889740</td>\n",
       "      <td>4172.0</td>\n",
       "      <td>4391.5</td>\n",
       "      <td>4611.0</td>\n",
       "      <td>4830.5</td>\n",
       "      <td>5050.0</td>\n",
       "    </tr>\n",
       "    <tr>\n",
       "      <th>sales</th>\n",
       "      <td>879.0</td>\n",
       "      <td>116.094425</td>\n",
       "      <td>66.297297</td>\n",
       "      <td>3.0</td>\n",
       "      <td>60.5</td>\n",
       "      <td>116.0</td>\n",
       "      <td>177.0</td>\n",
       "      <td>230.0</td>\n",
       "    </tr>\n",
       "    <tr>\n",
       "      <th>price</th>\n",
       "      <td>879.0</td>\n",
       "      <td>9862.490330</td>\n",
       "      <td>5532.573959</td>\n",
       "      <td>27.0</td>\n",
       "      <td>5016.0</td>\n",
       "      <td>9963.0</td>\n",
       "      <td>14478.5</td>\n",
       "      <td>19438.0</td>\n",
       "    </tr>\n",
       "    <tr>\n",
       "      <th>VAP</th>\n",
       "      <td>879.0</td>\n",
       "      <td>0.506257</td>\n",
       "      <td>0.500245</td>\n",
       "      <td>0.0</td>\n",
       "      <td>0.0</td>\n",
       "      <td>1.0</td>\n",
       "      <td>1.0</td>\n",
       "      <td>1.0</td>\n",
       "    </tr>\n",
       "    <tr>\n",
       "      <th>rating</th>\n",
       "      <td>879.0</td>\n",
       "      <td>6.500569</td>\n",
       "      <td>2.852835</td>\n",
       "      <td>1.0</td>\n",
       "      <td>5.0</td>\n",
       "      <td>6.0</td>\n",
       "      <td>10.0</td>\n",
       "      <td>10.0</td>\n",
       "    </tr>\n",
       "    <tr>\n",
       "      <th>re_buy</th>\n",
       "      <td>879.0</td>\n",
       "      <td>0.466439</td>\n",
       "      <td>0.499156</td>\n",
       "      <td>0.0</td>\n",
       "      <td>0.0</td>\n",
       "      <td>0.0</td>\n",
       "      <td>1.0</td>\n",
       "      <td>1.0</td>\n",
       "    </tr>\n",
       "  </tbody>\n",
       "</table>\n",
       "</div>"
      ],
      "text/plain": [
       "            count         mean          std     min     25%     50%      75%  \\\n",
       "product_id  879.0  4611.000000   253.889740  4172.0  4391.5  4611.0   4830.5   \n",
       "sales       879.0   116.094425    66.297297     3.0    60.5   116.0    177.0   \n",
       "price       879.0  9862.490330  5532.573959    27.0  5016.0  9963.0  14478.5   \n",
       "VAP         879.0     0.506257     0.500245     0.0     0.0     1.0      1.0   \n",
       "rating      879.0     6.500569     2.852835     1.0     5.0     6.0     10.0   \n",
       "re_buy      879.0     0.466439     0.499156     0.0     0.0     0.0      1.0   \n",
       "\n",
       "                max  \n",
       "product_id   5050.0  \n",
       "sales         230.0  \n",
       "price       19438.0  \n",
       "VAP             1.0  \n",
       "rating         10.0  \n",
       "re_buy          1.0  "
      ]
     },
     "execution_count": 72,
     "metadata": {},
     "output_type": "execute_result"
    }
   ],
   "source": [
    "data.describe().T"
   ]
  },
  {
   "cell_type": "markdown",
   "metadata": {},
   "source": [
    "Dari tabel diatas diperoleh beberapa informasi:\n",
    "- Rata-rata penjualan adalah 116, penjualan paling sedikit yaitu 3 dan paling banyak adalah 230\n",
    "- Harga cukup bervariasi dilihat harga paling rendah yaitu 3 dan paling mahal adalah 19.438\n",
    "- Produk memiliki rating rata rata 6.5\n",
    "- Distribusi data tampaknya normal dilihat dari nilai mean dan median yang hampir sama"
   ]
  },
  {
   "cell_type": "code",
   "execution_count": 73,
   "metadata": {},
   "outputs": [],
   "source": [
    "data = data.drop(columns=['product_id'])"
   ]
  },
  {
   "cell_type": "markdown",
   "metadata": {},
   "source": [
    "# 4. Exploratory Data Analysis (EDA)"
   ]
  },
  {
   "cell_type": "markdown",
   "metadata": {},
   "source": [
    "## 4.1 Re_buy (Target Column)"
   ]
  },
  {
   "cell_type": "code",
   "execution_count": 74,
   "metadata": {},
   "outputs": [
    {
     "name": "stdout",
     "output_type": "stream",
     "text": [
      "Number of unique values in re_buy:  2\n",
      "Unique values in re_buy:  [1 0]\n"
     ]
    }
   ],
   "source": [
    "print('Number of unique values in re_buy: ',data.re_buy.nunique())\n",
    "print('Unique values in re_buy: ', data.re_buy.unique())"
   ]
  },
  {
   "cell_type": "code",
   "execution_count": 75,
   "metadata": {},
   "outputs": [
    {
     "data": {
      "image/png": "[encoded data removed]",
      "text/plain": [
       "<Figure size 1500x600 with 2 Axes>"
      ]
     },
     "metadata": {},
     "output_type": "display_data"
    }
   ],
   "source": [
    "plt.figure(figsize=(15, 6))\n",
    "plt.subplot(1, 2, 1)\n",
    "fig = sns.countplot(x='re_buy', data=data)\n",
    "for p in fig.patches:\n",
    "    height = p.get_height()\n",
    "    fig.text(p.get_x() + p.get_width()/2.,\n",
    "            height + 3,\n",
    "            '{:1.0f}'.format(height),\n",
    "            ha=\"center\")\n",
    "plt.title('Re Buy Count')\n",
    "fig.set_xticklabels(['No', 'Yes'])\n",
    "plt.xlabel('Re Buy')\n",
    "plt.ylabel('Count')\n",
    "plt.subplot(1, 2, 2)\n",
    "plt.pie(data['re_buy'].value_counts(), labels=['No', 'Yes'], autopct='%1.1f%%', explode=[0.1, 0])\n",
    "plt.title('Re Buy Percentage')\n",
    "plt.show()"
   ]
  },
  {
   "cell_type": "markdown",
   "metadata": {},
   "source": [
    "Dataset ini memiliki persentase hampir sama antara konsumen yang membeli kembali (Yes) dengan yang tidak (Tidak)"
   ]
  },
  {
   "cell_type": "markdown",
   "metadata": {},
   "source": [
    "### 4.2 Sales"
   ]
  },
  {
   "cell_type": "code",
   "execution_count": 76,
   "metadata": {},
   "outputs": [
    {
     "data": {
      "image/png": "[encoded data removed]",
      "text/plain": [
       "<Figure size 2500x600 with 2 Axes>"
      ]
     },
     "metadata": {},
     "output_type": "display_data"
    },
    {
     "name": "stdout",
     "output_type": "stream",
     "text": [
      "Skewness: 0.0046725396867668325\n",
      "Minumum sales: 3\n",
      "Maximum sales: 230\n"
     ]
    }
   ],
   "source": [
    "plt.figure(figsize=(25, 6))\n",
    "plt.subplot(1, 2, 1)\n",
    "sns.histplot(x='sales', data=data, kde=True)\n",
    "plt.axvline(data.sales.mean(), color='red', linestyle='dashed', linewidth=2, label='Mean')\n",
    "plt.axvline(data.sales.median(), color='green', linestyle='dashed', linewidth=2, label='Median')\n",
    "plt.title('sales Distribution')\n",
    "plt.xlabel('sales')\n",
    "plt.ylabel('Frequency')\n",
    "plt.legend()\n",
    "plt.subplot(1, 2, 2)\n",
    "sns.boxplot(x='re_buy', y='sales', data=data)\n",
    "plt.title('sales Distribution by Death Event')\n",
    "plt.xlabel('re_buy')\n",
    "plt.ylabel('sales')\n",
    "plt.show()\n",
    "print(f'Skewness: {data.sales.skew()}')\n",
    "print(f'Minumum sales: {data.sales.min()}')\n",
    "print(f'Maximum sales: {data.sales.max()}')"
   ]
  },
  {
   "cell_type": "markdown",
   "metadata": {},
   "source": [
    "Harga cukup bervariatif yaitu mulai dari 3 hingga 230, untuk persentase sales antara yang re buy dan tidak sama"
   ]
  },
  {
   "cell_type": "markdown",
   "metadata": {},
   "source": [
    "## 4.3 Product Category"
   ]
  },
  {
   "cell_type": "code",
   "execution_count": 77,
   "metadata": {},
   "outputs": [
    {
     "data": {
      "text/plain": [
       "<AxesSubplot: xlabel='count', ylabel='product_category'>"
      ]
     },
     "execution_count": 77,
     "metadata": {},
     "output_type": "execute_result"
    },
    {
     "data": {
      "image/png": "[encoded data removed]",
      "text/plain": [
       "<Figure size 640x480 with 1 Axes>"
      ]
     },
     "metadata": {},
     "output_type": "display_data"
    }
   ],
   "source": [
    "sns.countplot(y='product_category', hue='re_buy', data=data)"
   ]
  },
  {
   "cell_type": "markdown",
   "metadata": {},
   "source": [
    "Produk kategori yang paling banyak adalah Equipment, toys dan snack. Dari semua kategori persentase membeli kembali produk atau tidak hampir sama"
   ]
  },
  {
   "cell_type": "markdown",
   "metadata": {},
   "source": [
    "## 4.4 Price"
   ]
  },
  {
   "cell_type": "code",
   "execution_count": 78,
   "metadata": {},
   "outputs": [
    {
     "data": {
      "image/png": "[encoded data removed]",
      "text/plain": [
       "<Figure size 2500x600 with 2 Axes>"
      ]
     },
     "metadata": {},
     "output_type": "display_data"
    },
    {
     "name": "stdout",
     "output_type": "stream",
     "text": [
      "Skewness: 0.0046725396867668325\n",
      "Minumum sales: 3\n",
      "Maximum sales: 230\n"
     ]
    }
   ],
   "source": [
    "plt.figure(figsize=(25, 6))\n",
    "plt.subplot(1, 2, 1)\n",
    "sns.histplot(x='sales', data=data, kde=True)\n",
    "plt.axvline(data.sales.mean(), color='red', linestyle='dashed', linewidth=2, label='Mean')\n",
    "plt.axvline(data.sales.median(), color='green', linestyle='dashed', linewidth=2, label='Median')\n",
    "plt.title('sales Distribution')\n",
    "plt.xlabel('sales')\n",
    "plt.ylabel('Frequency')\n",
    "plt.legend()\n",
    "plt.subplot(1, 2, 2)\n",
    "sns.boxplot(x='re_buy', y='sales', data=data)\n",
    "plt.title('sales Distribution by Death Event')\n",
    "plt.xlabel('re_buy')\n",
    "plt.ylabel('sales')\n",
    "plt.show()\n",
    "print(f'Skewness: {data.sales.skew()}')\n",
    "print(f'Minumum sales: {data.sales.min()}')\n",
    "print(f'Maximum sales: {data.sales.max()}')"
   ]
  },
  {
   "cell_type": "markdown",
   "metadata": {},
   "source": [
    "## 4.5 VAP"
   ]
  },
  {
   "cell_type": "code",
   "execution_count": 79,
   "metadata": {},
   "outputs": [
    {
     "name": "stdout",
     "output_type": "stream",
     "text": [
      "Number of unique values in size:  2\n",
      "Unique values in size:  [0 1]\n"
     ]
    }
   ],
   "source": [
    "print('Number of unique values in size: ',data.VAP.nunique())\n",
    "print('Unique values in size: ', data.VAP.unique())"
   ]
  },
  {
   "cell_type": "code",
   "execution_count": 80,
   "metadata": {},
   "outputs": [
    {
     "data": {
      "image/png": "[encoded data removed]",
      "text/plain": [
       "<Figure size 1500x600 with 2 Axes>"
      ]
     },
     "metadata": {},
     "output_type": "display_data"
    }
   ],
   "source": [
    "plt.figure(figsize=(15, 6))\n",
    "plt.subplot(1, 2, 1)\n",
    "fig = sns.countplot(x='VAP', data=data)\n",
    "for p in fig.patches:\n",
    "    height = p.get_height()\n",
    "    fig.text(p.get_x() + p.get_width()/2.,\n",
    "            height + 3,\n",
    "            '{:1.0f}'.format(height),\n",
    "            ha=\"center\")\n",
    "plt.title('Re Buy Count')\n",
    "fig.set_xticklabels(['No', 'Yes'])\n",
    "plt.xlabel('Re Buy')\n",
    "plt.ylabel('Count')\n",
    "plt.subplot(1, 2, 2)\n",
    "plt.pie(data['VAP'].value_counts(), labels=['No', 'Yes'], autopct='%1.1f%%', explode=[0.1, 0])\n",
    "plt.title('Re Buy Percentage')\n",
    "plt.show()"
   ]
  },
  {
   "cell_type": "code",
   "execution_count": 81,
   "metadata": {},
   "outputs": [
    {
     "data": {
      "text/plain": [
       "<AxesSubplot: xlabel='count', ylabel='product_category'>"
      ]
     },
     "execution_count": 81,
     "metadata": {},
     "output_type": "execute_result"
    },
    {
     "data": {
      "image/png": "[encoded data removed]",
      "text/plain": [
       "<Figure size 640x480 with 1 Axes>"
      ]
     },
     "metadata": {},
     "output_type": "display_data"
    }
   ],
   "source": [
    "sns.countplot(y='product_category', hue='VAP', data=data)"
   ]
  },
  {
   "cell_type": "markdown",
   "metadata": {},
   "source": [
    "Pada kolom ini cukup aneh karena hampir semua kategori ada yang harus disetujui oleh dokter terutama pada kolom snack, toys dan equipment. katakanlah biasnya yang perlu persetujuan dokter adalah obat dan mungkin makanan tertentu."
   ]
  },
  {
   "cell_type": "markdown",
   "metadata": {},
   "source": [
    "## 4.6 Vendor id"
   ]
  },
  {
   "cell_type": "code",
   "execution_count": 82,
   "metadata": {},
   "outputs": [
    {
     "name": "stdout",
     "output_type": "stream",
     "text": [
      "Number of unique values in size:  879\n",
      "Unique values in size:  ['VC_1605' 'VC_1132' 'VC_802' 'VC_929' 'VC_749' 'VC_1174' 'VC_945'\n",
      " 'VC_954' 'VC_1262' 'VC_803' 'VC_1215' 'VC_925' 'VC_1153' 'VC_884'\n",
      " 'VC_1178' 'VC_1455' 'VC_1342' 'VC_1106' 'VC_1302' 'VC_906' 'VC_1043'\n",
      " 'VC_744' 'VC_949' 'VC_1126' 'VC_836' 'VC_1029' 'VC_1180' 'VC_1236'\n",
      " 'VC_1021' 'VC_881' 'VC_1321' 'VC_1590' 'VC_1160' 'VC_1140' 'VC_1456'\n",
      " 'VC_1078' 'VC_773' 'VC_1586' 'VC_789' 'VC_1503' 'VC_1116' 'VC_1042'\n",
      " 'VC_1213' 'VC_1071' 'VC_1159' 'VC_1378' 'VC_838' 'VC_1510' 'VC_1478'\n",
      " 'VC_1205' 'VC_992' 'VC_1041' 'VC_1008' 'VC_1016' 'VC_1395' 'VC_1430'\n",
      " 'VC_1566' 'VC_1613' 'VC_1074' 'VC_1006' 'VC_1422' 'VC_999' 'VC_1096'\n",
      " 'VC_1614' 'VC_1383' 'VC_823' 'VC_991' 'VC_1164' 'VC_1315' 'VC_826'\n",
      " 'VC_1065' 'VC_1553' 'VC_1047' 'VC_1130' 'VC_849' 'VC_993' 'VC_780'\n",
      " 'VC_781' 'VC_1560' 'VC_1445' 'VC_818' 'VC_938' 'VC_1517' 'VC_845'\n",
      " 'VC_819' 'VC_1247' 'VC_1090' 'VC_756' 'VC_997' 'VC_754' 'VC_1098'\n",
      " 'VC_940' 'VC_1146' 'VC_1501' 'VC_903' 'VC_1063' 'VC_858' 'VC_1085'\n",
      " 'VC_1194' 'VC_1439' 'VC_1340' 'VC_1004' 'VC_1440' 'VC_1404' 'VC_1121'\n",
      " 'VC_1376' 'VC_1056' 'VC_1250' 'VC_1317' 'VC_1556' 'VC_1488' 'VC_1542'\n",
      " 'VC_1239' 'VC_1193' 'VC_921' 'VC_854' 'VC_1261' 'VC_1428' 'VC_762'\n",
      " 'VC_785' 'VC_1142' 'VC_752' 'VC_1246' 'VC_1127' 'VC_1018' 'VC_1423'\n",
      " 'VC_798' 'VC_1580' 'VC_1366' 'VC_1282' 'VC_763' 'VC_1545' 'VC_880'\n",
      " 'VC_1157' 'VC_1471' 'VC_1402' 'VC_1487' 'VC_1435' 'VC_1199' 'VC_1281'\n",
      " 'VC_834' 'VC_1569' 'VC_1519' 'VC_1361' 'VC_1364' 'VC_805' 'VC_1502'\n",
      " 'VC_1546' 'VC_1355' 'VC_746' 'VC_824' 'VC_1612' 'VC_942' 'VC_1102'\n",
      " 'VC_1189' 'VC_1516' 'VC_1339' 'VC_976' 'VC_1518' 'VC_996' 'VC_959'\n",
      " 'VC_1330' 'VC_1012' 'VC_900' 'VC_1460' 'VC_1220' 'VC_1122' 'VC_1528'\n",
      " 'VC_1436' 'VC_809' 'VC_984' 'VC_1171' 'VC_1540' 'VC_1598' 'VC_923'\n",
      " 'VC_1353' 'VC_1263' 'VC_831' 'VC_1357' 'VC_1068' 'VC_766' 'VC_1244'\n",
      " 'VC_1563' 'VC_1420' 'VC_1594' 'VC_1324' 'VC_1167' 'VC_1228' 'VC_835'\n",
      " 'VC_825' 'VC_807' 'VC_1204' 'VC_1080' 'VC_1103' 'VC_738' 'VC_928'\n",
      " 'VC_1309' 'VC_1331' 'VC_975' 'VC_782' 'VC_747' 'VC_820' 'VC_1442'\n",
      " 'VC_1135' 'VC_1463' 'VC_743' 'VC_863' 'VC_1343' 'VC_1358' 'VC_1039'\n",
      " 'VC_1481' 'VC_1601' 'VC_1076' 'VC_1212' 'VC_1079' 'VC_1091' 'VC_755'\n",
      " 'VC_1034' 'VC_1107' 'VC_1017' 'VC_833' 'VC_978' 'VC_872' 'VC_1551'\n",
      " 'VC_926' 'VC_1303' 'VC_1597' 'VC_1292' 'VC_1332' 'VC_778' 'VC_1328'\n",
      " 'VC_776' 'VC_1253' 'VC_759' 'VC_1413' 'VC_1081' 'VC_1377' 'VC_1141'\n",
      " 'VC_1278' 'VC_875' 'VC_1450' 'VC_757' 'VC_840' 'VC_1372' 'VC_813'\n",
      " 'VC_994' 'VC_1375' 'VC_1469' 'VC_1371' 'VC_1092' 'VC_1245' 'VC_973'\n",
      " 'VC_870' 'VC_867' 'VC_893' 'VC_1447' 'VC_1476' 'VC_1336' 'VC_1526'\n",
      " 'VC_1326' 'VC_1176' 'VC_934' 'VC_1608' 'VC_919' 'VC_1596' 'VC_907'\n",
      " 'VC_1093' 'VC_935' 'VC_1249' 'VC_1275' 'VC_1509' 'VC_998' 'VC_1421'\n",
      " 'VC_865' 'VC_1464' 'VC_1499' 'VC_852' 'VC_1057' 'VC_1484' 'VC_1527'\n",
      " 'VC_1333' 'VC_894' 'VC_1610' 'VC_1582' 'VC_1500' 'VC_1286' 'VC_1067'\n",
      " 'VC_1058' 'VC_1026' 'VC_896' 'VC_944' 'VC_1123' 'VC_1147' 'VC_1276'\n",
      " 'VC_1083' 'VC_1308' 'VC_1242' 'VC_841' 'VC_1310' 'VC_843' 'VC_1327'\n",
      " 'VC_1219' 'VC_1182' 'VC_1259' 'VC_1191' 'VC_1201' 'VC_1073' 'VC_1334'\n",
      " 'VC_1184' 'VC_1009' 'VC_1319' 'VC_1305' 'VC_879' 'VC_1318' 'VC_1048'\n",
      " 'VC_771' 'VC_1108' 'VC_1139' 'VC_1033' 'VC_1265' 'VC_1384' 'VC_961'\n",
      " 'VC_1480' 'VC_1374' 'VC_874' 'VC_1498' 'VC_1541' 'VC_1211' 'VC_1050'\n",
      " 'VC_1368' 'VC_974' 'VC_1019' 'VC_1168' 'VC_866' 'VC_1300' 'VC_1403'\n",
      " 'VC_1459' 'VC_1155' 'VC_1524' 'VC_1497' 'VC_1379' 'VC_981' 'VC_853'\n",
      " 'VC_739' 'VC_1453' 'VC_1210' 'VC_1600' 'VC_1000' 'VC_939' 'VC_1028'\n",
      " 'VC_795' 'VC_1291' 'VC_1158' 'VC_742' 'VC_899' 'VC_1588' 'VC_1203'\n",
      " 'VC_1410' 'VC_1007' 'VC_857' 'VC_1609' 'VC_792' 'VC_1426' 'VC_1491'\n",
      " 'VC_1351' 'VC_1086' 'VC_1496' 'VC_1388' 'VC_1288' 'VC_1392' 'VC_1515'\n",
      " 'VC_1270' 'VC_1416' 'VC_1549' 'VC_1532' 'VC_1238' 'VC_750' 'VC_1192'\n",
      " 'VC_913' 'VC_787' 'VC_855' 'VC_1414' 'VC_1095' 'VC_1525' 'VC_1344'\n",
      " 'VC_829' 'VC_1506' 'VC_1015' 'VC_1267' 'VC_1145' 'VC_1087' 'VC_800'\n",
      " 'VC_956' 'VC_1235' 'VC_1479' 'VC_1162' 'VC_1391' 'VC_892' 'VC_1409'\n",
      " 'VC_1306' 'VC_966' 'VC_793' 'VC_1133' 'VC_1433' 'VC_1013' 'VC_1152'\n",
      " 'VC_970' 'VC_1040' 'VC_950' 'VC_947' 'VC_883' 'VC_1243' 'VC_1217'\n",
      " 'VC_1425' 'VC_1386' 'VC_740' 'VC_760' 'VC_1297' 'VC_1290' 'VC_1486'\n",
      " 'VC_1272' 'VC_977' 'VC_1511' 'VC_1325' 'VC_1359' 'VC_1360' 'VC_1385'\n",
      " 'VC_1494' 'VC_918' 'VC_790' 'VC_1347' 'VC_1110' 'VC_1362' 'VC_1175'\n",
      " 'VC_1115' 'VC_1226' 'VC_1285' 'VC_1218' 'VC_927' 'VC_1583' 'VC_1181'\n",
      " 'VC_753' 'VC_1055' 'VC_1294' 'VC_1195' 'VC_1214' 'VC_741' 'VC_796'\n",
      " 'VC_1411' 'VC_882' 'VC_1183' 'VC_898' 'VC_1396' 'VC_850' 'VC_1295'\n",
      " 'VC_1227' 'VC_1274' 'VC_1112' 'VC_1054' 'VC_1568' 'VC_1607' 'VC_888'\n",
      " 'VC_801' 'VC_1136' 'VC_1462' 'VC_1429' 'VC_1099' 'VC_971' 'VC_804'\n",
      " 'VC_1150' 'VC_1148' 'VC_1604' 'VC_1335' 'VC_1320' 'VC_1523' 'VC_844'\n",
      " 'VC_1241' 'VC_1128' 'VC_877' 'VC_1512' 'VC_1161' 'VC_1077' 'VC_1434'\n",
      " 'VC_1084' 'VC_985' 'VC_1531' 'VC_1507' 'VC_1252' 'VC_1120' 'VC_1467'\n",
      " 'VC_1188' 'VC_797' 'VC_868' 'VC_861' 'VC_1505' 'VC_1393' 'VC_1452'\n",
      " 'VC_965' 'VC_1059' 'VC_769' 'VC_848' 'VC_952' 'VC_1051' 'VC_1165'\n",
      " 'VC_1438' 'VC_1530' 'VC_1277' 'VC_1548' 'VC_764' 'VC_783' 'VC_1197'\n",
      " 'VC_1572' 'VC_979' 'VC_1401' 'VC_1437' 'VC_1248' 'VC_1577' 'VC_1258'\n",
      " 'VC_1225' 'VC_1233' 'VC_768' 'VC_1069' 'VC_1535' 'VC_1104' 'VC_1475'\n",
      " 'VC_847' 'VC_936' 'VC_1293' 'VC_1390' 'VC_1284' 'VC_1061' 'VC_1555'\n",
      " 'VC_904' 'VC_1187' 'VC_1002' 'VC_1446' 'VC_1394' 'VC_810' 'VC_902'\n",
      " 'VC_1573' 'VC_891' 'VC_1307' 'VC_1593' 'VC_765' 'VC_1552' 'VC_1031'\n",
      " 'VC_1289' 'VC_1100' 'VC_1354' 'VC_846' 'VC_1382' 'VC_1417' 'VC_1565'\n",
      " 'VC_1595' 'VC_1279' 'VC_1448' 'VC_1313' 'VC_748' 'VC_1520' 'VC_916'\n",
      " 'VC_1352' 'VC_779' 'VC_1179' 'VC_1022' 'VC_1585' 'VC_851' 'VC_1449'\n",
      " 'VC_1109' 'VC_986' 'VC_1387' 'VC_784' 'VC_1296' 'VC_1046' 'VC_1444'\n",
      " 'VC_1322' 'VC_1579' 'VC_1273' 'VC_1172' 'VC_1011' 'VC_811' 'VC_933'\n",
      " 'VC_1131' 'VC_886' 'VC_1230' 'VC_963' 'VC_1536' 'VC_1169' 'VC_1504'\n",
      " 'VC_1529' 'VC_1111' 'VC_1066' 'VC_1356' 'VC_1337' 'VC_1105' 'VC_937'\n",
      " 'VC_914' 'VC_821' 'VC_1256' 'VC_1431' 'VC_1457' 'VC_1014' 'VC_1177'\n",
      " 'VC_1537' 'VC_1349' 'VC_837' 'VC_871' 'VC_758' 'VC_1458' 'VC_1223'\n",
      " 'VC_816' 'VC_915' 'VC_1027' 'VC_932' 'VC_794' 'VC_1470' 'VC_1370'\n",
      " 'VC_1251' 'VC_1062' 'VC_1257' 'VC_1200' 'VC_873' 'VC_1138' 'VC_901'\n",
      " 'VC_1408' 'VC_1075' 'VC_1400' 'VC_1024' 'VC_1010' 'VC_1254' 'VC_1202'\n",
      " 'VC_864' 'VC_941' 'VC_1038' 'VC_1287' 'VC_1283' 'VC_1224' 'VC_1508'\n",
      " 'VC_889' 'VC_905' 'VC_1082' 'VC_1163' 'VC_772' 'VC_860' 'VC_1023'\n",
      " 'VC_887' 'VC_1584' 'VC_1064' 'VC_1072' 'VC_1323' 'VC_958' 'VC_1216'\n",
      " 'VC_1576' 'VC_1571' 'VC_1222' 'VC_1316' 'VC_1544' 'VC_1234' 'VC_1451'\n",
      " 'VC_1269' 'VC_1338' 'VC_1380' 'VC_1367' 'VC_1209' 'VC_822' 'VC_1036'\n",
      " 'VC_1461' 'VC_745' 'VC_737' 'VC_814' 'VC_1406' 'VC_791' 'VC_1113'\n",
      " 'VC_1037' 'VC_777' 'VC_1137' 'VC_987' 'VC_1567' 'VC_1044' 'VC_774'\n",
      " 'VC_1350' 'VC_1534' 'VC_1539' 'VC_1143' 'VC_1268' 'VC_1424' 'VC_1468'\n",
      " 'VC_1465' 'VC_920' 'VC_1198' 'VC_1154' 'VC_1603' 'VC_1615' 'VC_1575'\n",
      " 'VC_955' 'VC_812' 'VC_1399' 'VC_1473' 'VC_982' 'VC_817' 'VC_1173'\n",
      " 'VC_1053' 'VC_1574' 'VC_1151' 'VC_1592' 'VC_1398' 'VC_842' 'VC_1591'\n",
      " 'VC_1240' 'VC_912' 'VC_911' 'VC_878' 'VC_1483' 'VC_806' 'VC_1094'\n",
      " 'VC_1493' 'VC_1035' 'VC_1088' 'VC_1049' 'VC_980' 'VC_1363' 'VC_1114'\n",
      " 'VC_988' 'VC_983' 'VC_924' 'VC_1030' 'VC_1419' 'VC_1558' 'VC_1166'\n",
      " 'VC_1185' 'VC_1559' 'VC_1570' 'VC_895' 'VC_1097' 'VC_931' 'VC_1311'\n",
      " 'VC_1472' 'VC_1089' 'VC_1557' 'VC_1221' 'VC_1407' 'VC_1025' 'VC_1533'\n",
      " 'VC_1118' 'VC_1003' 'VC_930' 'VC_839' 'VC_1280' 'VC_1124' 'VC_788'\n",
      " 'VC_767' 'VC_775' 'VC_1602' 'VC_1454' 'VC_964' 'VC_1186' 'VC_960'\n",
      " 'VC_922' 'VC_1581' 'VC_1170' 'VC_1397' 'VC_957' 'VC_1389' 'VC_1237'\n",
      " 'VC_1611' 'VC_786' 'VC_1365' 'VC_1599' 'VC_1405' 'VC_1045' 'VC_897'\n",
      " 'VC_1495' 'VC_1550' 'VC_1369' 'VC_1587' 'VC_1232' 'VC_1001' 'VC_1547'\n",
      " 'VC_1125' 'VC_827' 'VC_948' 'VC_1156' 'VC_1412' 'VC_1255' 'VC_885'\n",
      " 'VC_1346' 'VC_1443' 'VC_869' 'VC_1271' 'VC_1329' 'VC_1427' 'VC_943'\n",
      " 'VC_1196' 'VC_1589' 'VC_967' 'VC_828' 'VC_910' 'VC_1432' 'VC_1561'\n",
      " 'VC_1149' 'VC_1345' 'VC_1482' 'VC_1207' 'VC_989' 'VC_968' 'VC_761'\n",
      " 'VC_946' 'VC_1299' 'VC_1543' 'VC_951' 'VC_1208' 'VC_909' 'VC_1070'\n",
      " 'VC_1521' 'VC_1441' 'VC_1032' 'VC_1606' 'VC_1381' 'VC_1301' 'VC_1485'\n",
      " 'VC_1231' 'VC_751' 'VC_917' 'VC_1538' 'VC_1477' 'VC_1522' 'VC_1490'\n",
      " 'VC_990' 'VC_1005' 'VC_1513' 'VC_1304' 'VC_862' 'VC_995' 'VC_1466'\n",
      " 'VC_1266' 'VC_815' 'VC_770' 'VC_1312' 'VC_1052' 'VC_1144' 'VC_962'\n",
      " 'VC_1578' 'VC_1264' 'VC_1260' 'VC_1134' 'VC_876' 'VC_1101' 'VC_953'\n",
      " 'VC_1020' 'VC_1489' 'VC_969' 'VC_1129' 'VC_1117' 'VC_1314' 'VC_890'\n",
      " 'VC_1190' 'VC_859' 'VC_830' 'VC_1373' 'VC_1206' 'VC_1119' 'VC_1341'\n",
      " 'VC_1474' 'VC_832' 'VC_1562' 'VC_1418' 'VC_1060' 'VC_972' 'VC_799'\n",
      " 'VC_1554' 'VC_856' 'VC_1298' 'VC_1492' 'VC_1514' 'VC_908' 'VC_1564'\n",
      " 'VC_808' 'VC_1348' 'VC_1229' 'VC_1415']\n"
     ]
    }
   ],
   "source": [
    "print('Number of unique values in size: ',data.vendor_id.nunique())\n",
    "print('Unique values in size: ', data.vendor_id.unique())"
   ]
  },
  {
   "cell_type": "markdown",
   "metadata": {},
   "source": [
    "Vendor id memiliki uniqe value sama dengan jumlah data maka data ini di dapat dijadikan feature akan di remove pada saat **EDA**"
   ]
  },
  {
   "cell_type": "markdown",
   "metadata": {},
   "source": [
    "## 4.7 Pet Size"
   ]
  },
  {
   "cell_type": "code",
   "execution_count": 83,
   "metadata": {},
   "outputs": [
    {
     "name": "stdout",
     "output_type": "stream",
     "text": [
      "Number of unique values in size:  5\n",
      "Unique values in size:  ['small' 'large' 'extra_small' 'medium' 'extra_large']\n"
     ]
    }
   ],
   "source": [
    "print('Number of unique values in size: ',data.pet_size.nunique())\n",
    "print('Unique values in size: ', data.pet_size.unique())"
   ]
  },
  {
   "cell_type": "code",
   "execution_count": 84,
   "metadata": {},
   "outputs": [
    {
     "data": {
      "text/html": [
       "<div>\n",
       "<style scoped>\n",
       "    .dataframe tbody tr th:only-of-type {\n",
       "        vertical-align: middle;\n",
       "    }\n",
       "\n",
       "    .dataframe tbody tr th {\n",
       "        vertical-align: top;\n",
       "    }\n",
       "\n",
       "    .dataframe thead th {\n",
       "        text-align: right;\n",
       "    }\n",
       "</style>\n",
       "<table border=\"1\" class=\"dataframe\">\n",
       "  <thead>\n",
       "    <tr style=\"text-align: right;\">\n",
       "      <th>pet_type</th>\n",
       "      <th>bird</th>\n",
       "      <th>cat</th>\n",
       "      <th>dog</th>\n",
       "      <th>fish</th>\n",
       "      <th>hamster</th>\n",
       "      <th>rabbit</th>\n",
       "    </tr>\n",
       "    <tr>\n",
       "      <th>pet_size</th>\n",
       "      <th></th>\n",
       "      <th></th>\n",
       "      <th></th>\n",
       "      <th></th>\n",
       "      <th></th>\n",
       "      <th></th>\n",
       "    </tr>\n",
       "  </thead>\n",
       "  <tbody>\n",
       "    <tr>\n",
       "      <th>extra_large</th>\n",
       "      <td>5</td>\n",
       "      <td>44</td>\n",
       "      <td>43</td>\n",
       "      <td>5</td>\n",
       "      <td>4</td>\n",
       "      <td>5</td>\n",
       "    </tr>\n",
       "    <tr>\n",
       "      <th>extra_small</th>\n",
       "      <td>4</td>\n",
       "      <td>45</td>\n",
       "      <td>44</td>\n",
       "      <td>5</td>\n",
       "      <td>4</td>\n",
       "      <td>5</td>\n",
       "    </tr>\n",
       "    <tr>\n",
       "      <th>large</th>\n",
       "      <td>4</td>\n",
       "      <td>44</td>\n",
       "      <td>45</td>\n",
       "      <td>4</td>\n",
       "      <td>5</td>\n",
       "      <td>5</td>\n",
       "    </tr>\n",
       "    <tr>\n",
       "      <th>medium</th>\n",
       "      <td>51</td>\n",
       "      <td>171</td>\n",
       "      <td>44</td>\n",
       "      <td>4</td>\n",
       "      <td>5</td>\n",
       "      <td>4</td>\n",
       "    </tr>\n",
       "    <tr>\n",
       "      <th>small</th>\n",
       "      <td>5</td>\n",
       "      <td>43</td>\n",
       "      <td>171</td>\n",
       "      <td>52</td>\n",
       "      <td>5</td>\n",
       "      <td>4</td>\n",
       "    </tr>\n",
       "  </tbody>\n",
       "</table>\n",
       "</div>"
      ],
      "text/plain": [
       "pet_type     bird  cat  dog  fish  hamster  rabbit\n",
       "pet_size                                          \n",
       "extra_large     5   44   43     5        4       5\n",
       "extra_small     4   45   44     5        4       5\n",
       "large           4   44   45     4        5       5\n",
       "medium         51  171   44     4        5       4\n",
       "small           5   43  171    52        5       4"
      ]
     },
     "execution_count": 84,
     "metadata": {},
     "output_type": "execute_result"
    }
   ],
   "source": [
    "pd.crosstab(data.pet_size, data.pet_type)"
   ]
  },
  {
   "cell_type": "markdown",
   "metadata": {},
   "source": [
    "Terdapat 6 tipe hewan yaitu bird, cat, dog, fish, hamster, dan rabbit. Apabila dilihat dari crosstab diatas ukurang setiap jenis hewan terbagi menjadi 5 ukuran yaitu extra_small, small, medium, large, extra_large."
   ]
  },
  {
   "cell_type": "markdown",
   "metadata": {},
   "source": [
    "### 4.8 Korelasi"
   ]
  },
  {
   "cell_type": "code",
   "execution_count": 85,
   "metadata": {},
   "outputs": [
    {
     "data": {
      "text/plain": [
       "<AxesSubplot: >"
      ]
     },
     "execution_count": 85,
     "metadata": {},
     "output_type": "execute_result"
    },
    {
     "data": {
      "image/png": "[encoded data removed]",
      "text/plain": [
       "<Figure size 2000x1000 with 2 Axes>"
      ]
     },
     "metadata": {},
     "output_type": "display_data"
    }
   ],
   "source": [
    "plt.figure(figsize=(20,10))\n",
    "sns.heatmap(data.corr(),\n",
    "                cmap = 'BrBG',\n",
    "                linewidths= 2,\n",
    "                annot = True)"
   ]
  },
  {
   "cell_type": "markdown",
   "metadata": {},
   "source": [
    "Berdasarkan hasil korelasi setiap feature tidak memiliki korelasi terhadap target."
   ]
  },
  {
   "cell_type": "markdown",
   "metadata": {},
   "source": [
    "# 5. Data Preprocessing"
   ]
  },
  {
   "cell_type": "markdown",
   "metadata": {},
   "source": [
    "### 5.1 Data Inference"
   ]
  },
  {
   "cell_type": "code",
   "execution_count": 86,
   "metadata": {},
   "outputs": [],
   "source": [
    "data = data.drop(columns=['vendor_id'])"
   ]
  },
  {
   "cell_type": "markdown",
   "metadata": {},
   "source": [
    "Dikarenakan memiliki keterbatasan data sehingga kita akan memisahkan model inference yang nantinya akan digunakan untuk test model"
   ]
  },
  {
   "cell_type": "code",
   "execution_count": 87,
   "metadata": {},
   "outputs": [
    {
     "data": {
      "text/html": [
       "<div>\n",
       "<style scoped>\n",
       "    .dataframe tbody tr th:only-of-type {\n",
       "        vertical-align: middle;\n",
       "    }\n",
       "\n",
       "    .dataframe tbody tr th {\n",
       "        vertical-align: top;\n",
       "    }\n",
       "\n",
       "    .dataframe thead th {\n",
       "        text-align: right;\n",
       "    }\n",
       "</style>\n",
       "<table border=\"1\" class=\"dataframe\">\n",
       "  <thead>\n",
       "    <tr style=\"text-align: right;\">\n",
       "      <th></th>\n",
       "      <th>product_category</th>\n",
       "      <th>sales</th>\n",
       "      <th>price</th>\n",
       "      <th>VAP</th>\n",
       "      <th>country</th>\n",
       "      <th>pet_size</th>\n",
       "      <th>pet_type</th>\n",
       "      <th>rating</th>\n",
       "      <th>re_buy</th>\n",
       "    </tr>\n",
       "  </thead>\n",
       "  <tbody>\n",
       "    <tr>\n",
       "      <th>474</th>\n",
       "      <td>Toys</td>\n",
       "      <td>121</td>\n",
       "      <td>3157</td>\n",
       "      <td>0</td>\n",
       "      <td>USA</td>\n",
       "      <td>small</td>\n",
       "      <td>fish</td>\n",
       "      <td>6</td>\n",
       "      <td>0</td>\n",
       "    </tr>\n",
       "    <tr>\n",
       "      <th>578</th>\n",
       "      <td>Toys</td>\n",
       "      <td>96</td>\n",
       "      <td>460</td>\n",
       "      <td>0</td>\n",
       "      <td>India</td>\n",
       "      <td>extra_large</td>\n",
       "      <td>dog</td>\n",
       "      <td>9</td>\n",
       "      <td>0</td>\n",
       "    </tr>\n",
       "    <tr>\n",
       "      <th>629</th>\n",
       "      <td>Accessory</td>\n",
       "      <td>217</td>\n",
       "      <td>13270</td>\n",
       "      <td>1</td>\n",
       "      <td>India</td>\n",
       "      <td>small</td>\n",
       "      <td>cat</td>\n",
       "      <td>10</td>\n",
       "      <td>1</td>\n",
       "    </tr>\n",
       "    <tr>\n",
       "      <th>766</th>\n",
       "      <td>Equipment</td>\n",
       "      <td>161</td>\n",
       "      <td>17150</td>\n",
       "      <td>1</td>\n",
       "      <td>Vietnam</td>\n",
       "      <td>small</td>\n",
       "      <td>fish</td>\n",
       "      <td>7</td>\n",
       "      <td>1</td>\n",
       "    </tr>\n",
       "    <tr>\n",
       "      <th>228</th>\n",
       "      <td>Equipment</td>\n",
       "      <td>154</td>\n",
       "      <td>17445</td>\n",
       "      <td>1</td>\n",
       "      <td>Belgium</td>\n",
       "      <td>medium</td>\n",
       "      <td>cat</td>\n",
       "      <td>7</td>\n",
       "      <td>0</td>\n",
       "    </tr>\n",
       "    <tr>\n",
       "      <th>457</th>\n",
       "      <td>Supplements</td>\n",
       "      <td>25</td>\n",
       "      <td>11120</td>\n",
       "      <td>0</td>\n",
       "      <td>India</td>\n",
       "      <td>small</td>\n",
       "      <td>cat</td>\n",
       "      <td>10</td>\n",
       "      <td>1</td>\n",
       "    </tr>\n",
       "    <tr>\n",
       "      <th>781</th>\n",
       "      <td>Toys</td>\n",
       "      <td>116</td>\n",
       "      <td>8397</td>\n",
       "      <td>0</td>\n",
       "      <td>Belgium</td>\n",
       "      <td>medium</td>\n",
       "      <td>cat</td>\n",
       "      <td>1</td>\n",
       "      <td>1</td>\n",
       "    </tr>\n",
       "    <tr>\n",
       "      <th>138</th>\n",
       "      <td>Medicine</td>\n",
       "      <td>49</td>\n",
       "      <td>17059</td>\n",
       "      <td>1</td>\n",
       "      <td>India</td>\n",
       "      <td>large</td>\n",
       "      <td>dog</td>\n",
       "      <td>10</td>\n",
       "      <td>0</td>\n",
       "    </tr>\n",
       "    <tr>\n",
       "      <th>807</th>\n",
       "      <td>Snack</td>\n",
       "      <td>102</td>\n",
       "      <td>8761</td>\n",
       "      <td>1</td>\n",
       "      <td>USA</td>\n",
       "      <td>small</td>\n",
       "      <td>fish</td>\n",
       "      <td>6</td>\n",
       "      <td>0</td>\n",
       "    </tr>\n",
       "    <tr>\n",
       "      <th>715</th>\n",
       "      <td>Supplements</td>\n",
       "      <td>186</td>\n",
       "      <td>8065</td>\n",
       "      <td>0</td>\n",
       "      <td>India</td>\n",
       "      <td>extra_small</td>\n",
       "      <td>dog</td>\n",
       "      <td>2</td>\n",
       "      <td>1</td>\n",
       "    </tr>\n",
       "  </tbody>\n",
       "</table>\n",
       "</div>"
      ],
      "text/plain": [
       "    product_category  sales  price  VAP  country     pet_size pet_type  \\\n",
       "474             Toys    121   3157    0      USA        small     fish   \n",
       "578             Toys     96    460    0    India  extra_large      dog   \n",
       "629        Accessory    217  13270    1    India        small      cat   \n",
       "766        Equipment    161  17150    1  Vietnam        small     fish   \n",
       "228        Equipment    154  17445    1  Belgium       medium      cat   \n",
       "457      Supplements     25  11120    0    India        small      cat   \n",
       "781             Toys    116   8397    0  Belgium       medium      cat   \n",
       "138         Medicine     49  17059    1    India        large      dog   \n",
       "807            Snack    102   8761    1      USA        small     fish   \n",
       "715      Supplements    186   8065    0    India  extra_small      dog   \n",
       "\n",
       "     rating  re_buy  \n",
       "474       6       0  \n",
       "578       9       0  \n",
       "629      10       1  \n",
       "766       7       1  \n",
       "228       7       0  \n",
       "457      10       1  \n",
       "781       1       1  \n",
       "138      10       0  \n",
       "807       6       0  \n",
       "715       2       1  "
      ]
     },
     "execution_count": 87,
     "metadata": {},
     "output_type": "execute_result"
    }
   ],
   "source": [
    "data_inf = data.sample(10, random_state=23)\n",
    "data_inf"
   ]
  },
  {
   "cell_type": "markdown",
   "metadata": {},
   "source": [
    "seteleha mendapatkan data inference langkah selanjutnya merevo data inference"
   ]
  },
  {
   "cell_type": "code",
   "execution_count": 88,
   "metadata": {},
   "outputs": [],
   "source": [
    "data_train_test = data.drop(data_inf.index)"
   ]
  },
  {
   "cell_type": "markdown",
   "metadata": {},
   "source": [
    "Selanjutnya mereset index untuk meminimalisir hal-hal yang tidak diinginkan dikemudian hari"
   ]
  },
  {
   "cell_type": "code",
   "execution_count": 89,
   "metadata": {},
   "outputs": [],
   "source": [
    "data_train_test.reset_index(drop=True, inplace=True)\n",
    "data_inf.reset_index(drop=True, inplace=True)"
   ]
  },
  {
   "cell_type": "markdown",
   "metadata": {},
   "source": [
    "### 5.2 Split Data"
   ]
  },
  {
   "cell_type": "markdown",
   "metadata": {},
   "source": [
    "Membuat training set dan test set dengan perbandingan 8:2, dimana:\n",
    "- 80% data menjadi **training set**\n",
    "- 20% data menjadi **test set**"
   ]
  },
  {
   "cell_type": "code",
   "execution_count": 90,
   "metadata": {},
   "outputs": [
    {
     "data": {
      "text/html": [
       "<div>\n",
       "<style scoped>\n",
       "    .dataframe tbody tr th:only-of-type {\n",
       "        vertical-align: middle;\n",
       "    }\n",
       "\n",
       "    .dataframe tbody tr th {\n",
       "        vertical-align: top;\n",
       "    }\n",
       "\n",
       "    .dataframe thead th {\n",
       "        text-align: right;\n",
       "    }\n",
       "</style>\n",
       "<table border=\"1\" class=\"dataframe\">\n",
       "  <thead>\n",
       "    <tr style=\"text-align: right;\">\n",
       "      <th></th>\n",
       "      <th>product_category</th>\n",
       "      <th>sales</th>\n",
       "      <th>price</th>\n",
       "      <th>VAP</th>\n",
       "      <th>country</th>\n",
       "      <th>pet_size</th>\n",
       "      <th>pet_type</th>\n",
       "      <th>rating</th>\n",
       "      <th>re_buy</th>\n",
       "    </tr>\n",
       "  </thead>\n",
       "  <tbody>\n",
       "    <tr>\n",
       "      <th>584</th>\n",
       "      <td>Medicine</td>\n",
       "      <td>112</td>\n",
       "      <td>15958</td>\n",
       "      <td>0</td>\n",
       "      <td>India</td>\n",
       "      <td>extra_large</td>\n",
       "      <td>dog</td>\n",
       "      <td>10</td>\n",
       "      <td>1</td>\n",
       "    </tr>\n",
       "    <tr>\n",
       "      <th>284</th>\n",
       "      <td>Medicine</td>\n",
       "      <td>135</td>\n",
       "      <td>8232</td>\n",
       "      <td>0</td>\n",
       "      <td>India</td>\n",
       "      <td>small</td>\n",
       "      <td>dog</td>\n",
       "      <td>1</td>\n",
       "      <td>1</td>\n",
       "    </tr>\n",
       "    <tr>\n",
       "      <th>708</th>\n",
       "      <td>Toys</td>\n",
       "      <td>200</td>\n",
       "      <td>16956</td>\n",
       "      <td>0</td>\n",
       "      <td>USA</td>\n",
       "      <td>small</td>\n",
       "      <td>dog</td>\n",
       "      <td>6</td>\n",
       "      <td>0</td>\n",
       "    </tr>\n",
       "    <tr>\n",
       "      <th>127</th>\n",
       "      <td>Toys</td>\n",
       "      <td>59</td>\n",
       "      <td>2697</td>\n",
       "      <td>1</td>\n",
       "      <td>Singapore</td>\n",
       "      <td>medium</td>\n",
       "      <td>bird</td>\n",
       "      <td>6</td>\n",
       "      <td>1</td>\n",
       "    </tr>\n",
       "    <tr>\n",
       "      <th>575</th>\n",
       "      <td>Housing</td>\n",
       "      <td>110</td>\n",
       "      <td>1982</td>\n",
       "      <td>0</td>\n",
       "      <td>India</td>\n",
       "      <td>medium</td>\n",
       "      <td>dog</td>\n",
       "      <td>3</td>\n",
       "      <td>0</td>\n",
       "    </tr>\n",
       "    <tr>\n",
       "      <th>...</th>\n",
       "      <td>...</td>\n",
       "      <td>...</td>\n",
       "      <td>...</td>\n",
       "      <td>...</td>\n",
       "      <td>...</td>\n",
       "      <td>...</td>\n",
       "      <td>...</td>\n",
       "      <td>...</td>\n",
       "      <td>...</td>\n",
       "    </tr>\n",
       "    <tr>\n",
       "      <th>31</th>\n",
       "      <td>Equipment</td>\n",
       "      <td>172</td>\n",
       "      <td>18975</td>\n",
       "      <td>1</td>\n",
       "      <td>Singapore</td>\n",
       "      <td>medium</td>\n",
       "      <td>bird</td>\n",
       "      <td>6</td>\n",
       "      <td>1</td>\n",
       "    </tr>\n",
       "    <tr>\n",
       "      <th>488</th>\n",
       "      <td>Toys</td>\n",
       "      <td>63</td>\n",
       "      <td>7970</td>\n",
       "      <td>0</td>\n",
       "      <td>India</td>\n",
       "      <td>medium</td>\n",
       "      <td>hamster</td>\n",
       "      <td>10</td>\n",
       "      <td>0</td>\n",
       "    </tr>\n",
       "    <tr>\n",
       "      <th>40</th>\n",
       "      <td>Snack</td>\n",
       "      <td>100</td>\n",
       "      <td>9905</td>\n",
       "      <td>1</td>\n",
       "      <td>India</td>\n",
       "      <td>extra_large</td>\n",
       "      <td>cat</td>\n",
       "      <td>10</td>\n",
       "      <td>0</td>\n",
       "    </tr>\n",
       "    <tr>\n",
       "      <th>742</th>\n",
       "      <td>Bedding</td>\n",
       "      <td>170</td>\n",
       "      <td>3766</td>\n",
       "      <td>0</td>\n",
       "      <td>India</td>\n",
       "      <td>small</td>\n",
       "      <td>dog</td>\n",
       "      <td>7</td>\n",
       "      <td>0</td>\n",
       "    </tr>\n",
       "    <tr>\n",
       "      <th>595</th>\n",
       "      <td>Grooming</td>\n",
       "      <td>38</td>\n",
       "      <td>10211</td>\n",
       "      <td>0</td>\n",
       "      <td>India</td>\n",
       "      <td>large</td>\n",
       "      <td>cat</td>\n",
       "      <td>5</td>\n",
       "      <td>0</td>\n",
       "    </tr>\n",
       "  </tbody>\n",
       "</table>\n",
       "<p>695 rows × 9 columns</p>\n",
       "</div>"
      ],
      "text/plain": [
       "    product_category  sales  price  VAP    country     pet_size pet_type  \\\n",
       "584         Medicine    112  15958    0      India  extra_large      dog   \n",
       "284         Medicine    135   8232    0      India        small      dog   \n",
       "708             Toys    200  16956    0        USA        small      dog   \n",
       "127             Toys     59   2697    1  Singapore       medium     bird   \n",
       "575          Housing    110   1982    0      India       medium      dog   \n",
       "..               ...    ...    ...  ...        ...          ...      ...   \n",
       "31         Equipment    172  18975    1  Singapore       medium     bird   \n",
       "488             Toys     63   7970    0      India       medium  hamster   \n",
       "40             Snack    100   9905    1      India  extra_large      cat   \n",
       "742          Bedding    170   3766    0      India        small      dog   \n",
       "595         Grooming     38  10211    0      India        large      cat   \n",
       "\n",
       "     rating  re_buy  \n",
       "584      10       1  \n",
       "284       1       1  \n",
       "708       6       0  \n",
       "127       6       1  \n",
       "575       3       0  \n",
       "..      ...     ...  \n",
       "31        6       1  \n",
       "488      10       0  \n",
       "40       10       0  \n",
       "742       7       0  \n",
       "595       5       0  \n",
       "\n",
       "[695 rows x 9 columns]"
      ]
     },
     "execution_count": 90,
     "metadata": {},
     "output_type": "execute_result"
    }
   ],
   "source": [
    "df_train, df_test = train_test_split(data_train_test, test_size=0.2, random_state=23)\n",
    "df_train"
   ]
  },
  {
   "cell_type": "markdown",
   "metadata": {},
   "source": [
    "### 5.3 Handling outlier"
   ]
  },
  {
   "cell_type": "markdown",
   "metadata": {},
   "source": [
    "#### 5.3.1 Outlier Sales"
   ]
  },
  {
   "cell_type": "code",
   "execution_count": 91,
   "metadata": {},
   "outputs": [],
   "source": [
    "# Membuat function untuk distribusi data\n",
    "\n",
    "def histogram_plot(df, variabel):\n",
    "    plt.figure(figsize=(15,5))\n",
    "    plt.subplot(1,2,1)\n",
    "    sns.histplot(df[variabel], kde=True, bins=25)\n",
    "    plt.title('Histogram')\n",
    "\n",
    "# boxplot\n",
    "    plt.subplot(1,2,2)\n",
    "    sns.boxplot(y=df[variabel])\n",
    "    plt.title('Boxplot')\n",
    "    plt.show()\n",
    "    print('\\nSkewness Value : ', df[variabel].skew())"
   ]
  },
  {
   "cell_type": "code",
   "execution_count": 92,
   "metadata": {},
   "outputs": [
    {
     "data": {
      "image/png": "[encoded data removed]",
      "text/plain": [
       "<Figure size 1500x500 with 2 Axes>"
      ]
     },
     "metadata": {},
     "output_type": "display_data"
    },
    {
     "name": "stdout",
     "output_type": "stream",
     "text": [
      "\n",
      "Skewness Value :  -0.028767103642034005\n"
     ]
    }
   ],
   "source": [
    "histogram_plot(df_train, 'sales')"
   ]
  },
  {
   "cell_type": "markdown",
   "metadata": {},
   "source": [
    "Kolom sales memiliki distribusi data normal dan tidak memiliki outlier"
   ]
  },
  {
   "cell_type": "markdown",
   "metadata": {},
   "source": [
    "#### 5.3.2 Price"
   ]
  },
  {
   "cell_type": "code",
   "execution_count": 93,
   "metadata": {},
   "outputs": [
    {
     "data": {
      "image/png": "[encoded data removed]",
      "text/plain": [
       "<Figure size 1500x500 with 2 Axes>"
      ]
     },
     "metadata": {},
     "output_type": "display_data"
    },
    {
     "name": "stdout",
     "output_type": "stream",
     "text": [
      "\n",
      "Skewness Value :  -0.06860388881795434\n"
     ]
    }
   ],
   "source": [
    "histogram_plot(df_train, 'price')"
   ]
  },
  {
   "cell_type": "markdown",
   "metadata": {},
   "source": [
    "Kolom price memiliki distribusi normal dan tidak ada outlier"
   ]
  },
  {
   "cell_type": "markdown",
   "metadata": {},
   "source": [
    "### 5.4 Handling Missing Value"
   ]
  },
  {
   "cell_type": "code",
   "execution_count": 94,
   "metadata": {},
   "outputs": [
    {
     "data": {
      "text/plain": [
       "product_category    0\n",
       "sales               0\n",
       "price               0\n",
       "VAP                 0\n",
       "country             0\n",
       "pet_size            0\n",
       "pet_type            0\n",
       "rating              0\n",
       "re_buy              0\n",
       "dtype: int64"
      ]
     },
     "execution_count": 94,
     "metadata": {},
     "output_type": "execute_result"
    }
   ],
   "source": [
    "df_train.isna().sum()"
   ]
  },
  {
   "cell_type": "code",
   "execution_count": 95,
   "metadata": {},
   "outputs": [
    {
     "data": {
      "text/plain": [
       "product_category    0\n",
       "sales               0\n",
       "price               0\n",
       "VAP                 0\n",
       "country             0\n",
       "pet_size            0\n",
       "pet_type            0\n",
       "rating              0\n",
       "re_buy              0\n",
       "dtype: int64"
      ]
     },
     "execution_count": 95,
     "metadata": {},
     "output_type": "execute_result"
    }
   ],
   "source": [
    "df_test.isna().sum()"
   ]
  },
  {
   "cell_type": "markdown",
   "metadata": {},
   "source": [
    "Pada Dataset ini tidak memiliki Missing Value"
   ]
  },
  {
   "cell_type": "markdown",
   "metadata": {},
   "source": [
    "### 5.5 Feature Selection"
   ]
  },
  {
   "cell_type": "markdown",
   "metadata": {},
   "source": [
    "Pada saat **EDA** vendor_id akan kita remove karena uniqe value sama dengan jumlah row sehingga data tersebut tidak dapat mewakilkan dalam analisis"
   ]
  },
  {
   "cell_type": "code",
   "execution_count": 96,
   "metadata": {},
   "outputs": [],
   "source": [
    "X_train = df_train.drop(columns='re_buy')\n",
    "y_train = df_train.re_buy\n",
    "X_test = df_test.drop(columns='re_buy')\n",
    "y_test = df_test.re_buy"
   ]
  },
  {
   "cell_type": "markdown",
   "metadata": {},
   "source": [
    "Seleksi feature akan menggunakan chi2 sebelumnya akan dilakukan scaling dan encoding terlebih dahulu"
   ]
  },
  {
   "cell_type": "code",
   "execution_count": 97,
   "metadata": {},
   "outputs": [
    {
     "name": "stdout",
     "output_type": "stream",
     "text": [
      "Numerical Columns   :  ['sales', 'price', 'VAP', 'rating']\n",
      "Categorical Columns :  ['product_category', 'country', 'pet_size', 'pet_type']\n"
     ]
    }
   ],
   "source": [
    "# Get Numerical Columns and Categorical Columns\n",
    "\n",
    "num_columns = X_train.select_dtypes(include=np.number).columns.tolist()\n",
    "cat_columns = X_train.select_dtypes(include=['object']).columns.tolist()\n",
    "\n",
    "print('Numerical Columns   : ', num_columns)\n",
    "print('Categorical Columns : ', cat_columns)"
   ]
  },
  {
   "cell_type": "code",
   "execution_count": 98,
   "metadata": {},
   "outputs": [],
   "source": [
    "# Split Train-Set and Test-Set based on Column Types\n",
    "\n",
    "X_train_num = X_train[num_columns]\n",
    "X_test_num = X_test[num_columns]\n",
    "\n",
    "X_train_cat = X_train[cat_columns]\n",
    "X_test_cat = X_test[cat_columns]"
   ]
  },
  {
   "cell_type": "code",
   "execution_count": 99,
   "metadata": {},
   "outputs": [],
   "source": [
    "# Feature Scaling using MinMaxScaler\n",
    "\n",
    "from sklearn.preprocessing import MinMaxScaler\n",
    "scaler = MinMaxScaler()\n",
    "scaler.fit(X_train_num)\n",
    "\n",
    "X_train_num_scaled = scaler.transform(X_train_num)\n",
    "X_test_num_scaled = scaler.transform(X_test_num)"
   ]
  },
  {
   "cell_type": "code",
   "execution_count": 100,
   "metadata": {},
   "outputs": [],
   "source": [
    "# Feature Encoding using OrdinalEncoder\n",
    "\n",
    "from sklearn.preprocessing import OrdinalEncoder\n",
    "encoder = OrdinalEncoder()\n",
    "encoder.fit(X_train_cat)\n",
    "\n",
    "X_train_cat_encoded = encoder.transform(X_train_cat)\n",
    "X_test_cat_encoded = encoder.transform(X_test_cat)"
   ]
  },
  {
   "cell_type": "code",
   "execution_count": 101,
   "metadata": {},
   "outputs": [],
   "source": [
    "X_train_final = np.concatenate([X_train_num_scaled, X_train_cat_encoded], axis=1)\n",
    "X_test_final = np.concatenate([X_test_num_scaled, X_test_cat_encoded], axis=1)"
   ]
  },
  {
   "cell_type": "code",
   "execution_count": 102,
   "metadata": {},
   "outputs": [],
   "source": [
    "X_train_final_df = pd.DataFrame(X_train_final, columns=[num_columns + cat_columns])\n",
    "X_test_final_df = pd.DataFrame(X_test_final, columns=[num_columns + cat_columns])"
   ]
  },
  {
   "cell_type": "code",
   "execution_count": 103,
   "metadata": {},
   "outputs": [
    {
     "data": {
      "text/plain": [
       "array([2.26437415e-04, 5.60289536e-01, 2.53552246e+00, 7.17102806e-01,\n",
       "       1.66144565e+00, 1.81589779e+00, 1.30330186e-02, 2.16222867e-02])"
      ]
     },
     "execution_count": 103,
     "metadata": {},
     "output_type": "execute_result"
    }
   ],
   "source": [
    "test = SelectKBest(score_func=chi2, k=5)\n",
    "fit = test.fit(X_train_final, y_train)\n",
    "fit.scores_"
   ]
  },
  {
   "cell_type": "code",
   "execution_count": 104,
   "metadata": {},
   "outputs": [
    {
     "data": {
      "text/plain": [
       "array([0., 1., 3., 1., 2., 2., 0., 0.])"
      ]
     },
     "execution_count": 104,
     "metadata": {},
     "output_type": "execute_result"
    }
   ],
   "source": [
    "np.round_(fit.scores_)"
   ]
  },
  {
   "cell_type": "code",
   "execution_count": 105,
   "metadata": {},
   "outputs": [
    {
     "data": {
      "text/plain": [
       "VAP                 2.535522\n",
       "country             1.815898\n",
       "product_category    1.661446\n",
       "rating              0.717103\n",
       "price               0.560290\n",
       "pet_type            0.021622\n",
       "pet_size            0.013033\n",
       "sales               0.000226\n",
       "dtype: float64"
      ]
     },
     "execution_count": 105,
     "metadata": {},
     "output_type": "execute_result"
    }
   ],
   "source": [
    "chi = pd.Series(fit.scores_)\n",
    "chi.index = X_train_final_df.columns\n",
    "chi.sort_values(ascending=False)"
   ]
  },
  {
   "cell_type": "markdown",
   "metadata": {},
   "source": [
    "Dari hasil seleksi feature diperoleh VAP, country, product_category dan price"
   ]
  },
  {
   "cell_type": "code",
   "execution_count": 106,
   "metadata": {},
   "outputs": [],
   "source": [
    "X_train = X_train_final_df[['VAP','country','product_category', 'price']]\n",
    "y_train = df_train.re_buy\n",
    "X_test = X_test_final_df[['VAP', 'country', 'product_category', 'price']]\n",
    "y_test = df_test.re_buy"
   ]
  },
  {
   "cell_type": "markdown",
   "metadata": {},
   "source": [
    "### 5.5 Pipeline"
   ]
  },
  {
   "cell_type": "markdown",
   "metadata": {},
   "source": [
    "Pada bagian ini akan membuat pipeline untuk melakukan normalisasi (scaling) karena data terdistribusi normal maka menggunakan StandarsScaler dan melakukan encoding menggunakan OrdinalEncoder. Pada bagian ini juga akan membuat Pipeline untuk model. "
   ]
  },
  {
   "cell_type": "markdown",
   "metadata": {},
   "source": [
    "Split Numerical and Categorical columns"
   ]
  },
  {
   "cell_type": "code",
   "execution_count": 107,
   "metadata": {},
   "outputs": [],
   "source": [
    "# Numerical Feature Scaling\n",
    "num_feature = X_train.select_dtypes(include='number').columns\n",
    "\n",
    "# Categorical (1) Feature Encoding\n",
    "cat_feature = X_train.select_dtypes(include='object').columns"
   ]
  },
  {
   "cell_type": "code",
   "execution_count": 108,
   "metadata": {},
   "outputs": [],
   "source": [
    "# Numerical Feature Pipeline\n",
    "num_pipe = Pipeline([('scaler', StandardScaler())])\n",
    "\n",
    "# Categorical Feature Pipeline\n",
    "cat_pipe = Pipeline([('encoder', OrdinalEncoder())])"
   ]
  },
  {
   "cell_type": "markdown",
   "metadata": {},
   "source": [
    "Menggabungkan menjadi 1 pipeline preprocessing menggunakan ColumnsTransformer."
   ]
  },
  {
   "cell_type": "code",
   "execution_count": 109,
   "metadata": {},
   "outputs": [],
   "source": [
    "# Preprocessing Pipeline\n",
    "preprocess = ColumnTransformer(transformers=[\n",
    "    ('num', num_pipe, X_train.select_dtypes(include='number').columns),\n",
    "    ('cat', cat_pipe, X_train.select_dtypes(include='object').columns),])"
   ]
  },
  {
   "cell_type": "code",
   "execution_count": 110,
   "metadata": {},
   "outputs": [],
   "source": [
    "X_train_final = preprocess.fit_transform(X_train)"
   ]
  },
  {
   "cell_type": "markdown",
   "metadata": {},
   "source": [
    "Membuat dataframe"
   ]
  },
  {
   "cell_type": "code",
   "execution_count": 111,
   "metadata": {},
   "outputs": [],
   "source": [
    "X_train_final_df = pd.DataFrame(X_train_final, columns=[X_train])"
   ]
  },
  {
   "cell_type": "code",
   "execution_count": 112,
   "metadata": {},
   "outputs": [
    {
     "data": {
      "text/html": [
       "<div>\n",
       "<style scoped>\n",
       "    .dataframe tbody tr th:only-of-type {\n",
       "        vertical-align: middle;\n",
       "    }\n",
       "\n",
       "    .dataframe tbody tr th {\n",
       "        vertical-align: top;\n",
       "    }\n",
       "\n",
       "    .dataframe thead tr th {\n",
       "        text-align: left;\n",
       "    }\n",
       "</style>\n",
       "<table border=\"1\" class=\"dataframe\">\n",
       "  <thead>\n",
       "    <tr>\n",
       "      <th></th>\n",
       "      <th>(VAP,)</th>\n",
       "      <th>(country,)</th>\n",
       "      <th>(product_category,)</th>\n",
       "      <th>(price,)</th>\n",
       "    </tr>\n",
       "  </thead>\n",
       "  <tbody>\n",
       "    <tr>\n",
       "      <th>0</th>\n",
       "      <td>-1.018883</td>\n",
       "      <td>-0.363502</td>\n",
       "      <td>0.390769</td>\n",
       "      <td>1.103121</td>\n",
       "    </tr>\n",
       "    <tr>\n",
       "      <th>1</th>\n",
       "      <td>-1.018883</td>\n",
       "      <td>-0.363502</td>\n",
       "      <td>0.390769</td>\n",
       "      <td>-0.310183</td>\n",
       "    </tr>\n",
       "    <tr>\n",
       "      <th>2</th>\n",
       "      <td>-1.018883</td>\n",
       "      <td>2.214394</td>\n",
       "      <td>1.350432</td>\n",
       "      <td>1.285683</td>\n",
       "    </tr>\n",
       "    <tr>\n",
       "      <th>3</th>\n",
       "      <td>0.981467</td>\n",
       "      <td>0.667657</td>\n",
       "      <td>1.350432</td>\n",
       "      <td>-1.322691</td>\n",
       "    </tr>\n",
       "    <tr>\n",
       "      <th>4</th>\n",
       "      <td>-1.018883</td>\n",
       "      <td>-0.363502</td>\n",
       "      <td>0.070882</td>\n",
       "      <td>-1.453485</td>\n",
       "    </tr>\n",
       "    <tr>\n",
       "      <th>...</th>\n",
       "      <td>...</td>\n",
       "      <td>...</td>\n",
       "      <td>...</td>\n",
       "      <td>...</td>\n",
       "    </tr>\n",
       "    <tr>\n",
       "      <th>690</th>\n",
       "      <td>0.981467</td>\n",
       "      <td>0.667657</td>\n",
       "      <td>-0.888781</td>\n",
       "      <td>1.655016</td>\n",
       "    </tr>\n",
       "    <tr>\n",
       "      <th>691</th>\n",
       "      <td>-1.018883</td>\n",
       "      <td>-0.363502</td>\n",
       "      <td>1.350432</td>\n",
       "      <td>-0.358110</td>\n",
       "    </tr>\n",
       "    <tr>\n",
       "      <th>692</th>\n",
       "      <td>0.981467</td>\n",
       "      <td>-0.363502</td>\n",
       "      <td>0.710657</td>\n",
       "      <td>-0.004144</td>\n",
       "    </tr>\n",
       "    <tr>\n",
       "      <th>693</th>\n",
       "      <td>-1.018883</td>\n",
       "      <td>-0.363502</td>\n",
       "      <td>-1.528557</td>\n",
       "      <td>-1.127141</td>\n",
       "    </tr>\n",
       "    <tr>\n",
       "      <th>694</th>\n",
       "      <td>-1.018883</td>\n",
       "      <td>-0.363502</td>\n",
       "      <td>-0.249006</td>\n",
       "      <td>0.051832</td>\n",
       "    </tr>\n",
       "  </tbody>\n",
       "</table>\n",
       "<p>695 rows × 4 columns</p>\n",
       "</div>"
      ],
      "text/plain": [
       "       (VAP,) (country,) (product_category,)  (price,)\n",
       "0   -1.018883  -0.363502            0.390769  1.103121\n",
       "1   -1.018883  -0.363502            0.390769 -0.310183\n",
       "2   -1.018883   2.214394            1.350432  1.285683\n",
       "3    0.981467   0.667657            1.350432 -1.322691\n",
       "4   -1.018883  -0.363502            0.070882 -1.453485\n",
       "..        ...        ...                 ...       ...\n",
       "690  0.981467   0.667657           -0.888781  1.655016\n",
       "691 -1.018883  -0.363502            1.350432 -0.358110\n",
       "692  0.981467  -0.363502            0.710657 -0.004144\n",
       "693 -1.018883  -0.363502           -1.528557 -1.127141\n",
       "694 -1.018883  -0.363502           -0.249006  0.051832\n",
       "\n",
       "[695 rows x 4 columns]"
      ]
     },
     "execution_count": 112,
     "metadata": {},
     "output_type": "execute_result"
    }
   ],
   "source": [
    "X_train_final_df "
   ]
  },
  {
   "cell_type": "markdown",
   "metadata": {},
   "source": [
    "# 6. Model Definition"
   ]
  },
  {
   "cell_type": "markdown",
   "metadata": {},
   "source": [
    "### 6.1 Model definition"
   ]
  },
  {
   "cell_type": "markdown",
   "metadata": {},
   "source": [
    "Pada bagian ini akan menggunakan 5 Model:\n",
    "- `log_model` adalah model untuk **Logistic Regression**:  \n",
    "    - kelebihan: 1. Regresi logistik tidak memiliki asumsi normalitas dan heteroskedastisitas atas variabel bebas yang digunakan dalam model sehingga tidak diperlukan uji asumsi klasik walaupun variabel independen berjumlah lebih dari satu. 2. Variabel independen dalam regresi logistik bisa campuran dari variabel kontinu, distrik, dan dikotomis. 3. Regresi logistik tidak membutuhkan keterbatasan dari variabel independennya. 4. Regresi logistik tidak mengharuskan variabel bebasnya dalam bentuk interval.\n",
    "    - Kelemahan dari Logistic Regression adalah rentan terhadap underfitting pada dataset yang kelasnya tidak seimbang, sehingga akan menghasilkan akurasi yang rendah.[link](https://www.neliti.com/id/publications/90242/resampling-logistic-regression-untuk-penanganan-ketidakseimbangan-class-pada-pre#:~:text=Kelemahan%20dari%20Logistic%20Regression%20adalah,akan%20menghasilkan%20akurasi%20yang%20rendah.)\n",
    "\n",
    "- `svc_model` adalah model untuk **Support Vector Machine** : SVM menggunakan teknik yang disebut trik kernel di mana kernel mengambil ruang input berdimensi rendah dan mengubahnya menjadi ruang berdimensi lebih tinggi\n",
    "    - Kelebihan: Pengklasifikasi SVM menawarkan akurasi tinggi dan bekerja dengan baik dengan ruang dimensi tinggi. SVM pengklasifikasi pada dasarnya menggunakan subset dari poin pelatihan sehingga hasilnya menggunakan memori yang sangat sedikit.\n",
    "    - Kelemahan pengklasifikasi SVM memiliki waktu pelatihan yang tinggi sehingga dalam praktiknya tidak cocok untuk kumpulan data yang besar. Lain kerugiannya adalah pengklasifikasi SVM tidak berfungsi dengan baik dengan kelas yang tumpang tindih\n",
    "- `tree` adalah model untuk Decisson Tree: membuat keputusan dengan struktur seperti pohon yang memodelkan kemungkinan hasil, biaya sumber daya, utilitas dan kemungkinan konsekuensi atau resiko. \n",
    "    - Kelebihan: Mudah dibaca dan ditafsirkan  tanpa perlu pengetahuan statistik, Mudah disiapkan tanpa harus menghitung dengan perhitungan yang rumit, Proses Data Cleaning cenderung lebih sedikit, kasus nilai yang hilang dan outlier kurang signifikan pada data decision tree.\n",
    "    - Kelemahan: Sifat tidak stabil, ini menjadi salah satu keterbatasan dari algoritma decision tree ketika terdapat perubahan kecil pada data dapat menghasilkan perubahan besar dalam struktur pohon keputusan, Kurang efektif dalam memprediksi hasil dari variabel kontinu. [link](https://dqlab.id/pahami-metode-decision-tree-sebagai-algoritma-data-science#:~:text=Agar%20semakin%20lebih%20kenal%20dengan,3)%20Proses%20Data%20Cleaning%20cenderung)\n",
    "- `forest` adalah model untuk Random Forest: u kumpulan dari beberapa tree, dimana\n",
    "masing-masing tree bergantung pada nilai piksel pada tiap vector yang diambil\n",
    "secara acak dan independen\n",
    "    - Kelebihan: dapat mengatasi noise dan missing value serta dapat mengatasi data dalam jumlah yang besar.\n",
    "    - kekurangan pada algoritma Random Forest yaitu interpretasi yang sulit dan membutuhkan tuning model yang tepat untuk data. \n",
    "- `knn` adalah model untuk K-Nearest Neighbors\n",
    "    - Kelebihan: Mudah diterapkan, Mudah beradaptasi, Memiliki sedikit hyperparameter\n",
    "    - Kekurangan: Tidak berfungsi dengan baik pada dataset berukuran besar, Kurang cocok untuk dimensi tinggi, Perlu penskalaan fitur, Sensitif terhadap noise data, missing values dan outliers"
   ]
  },
  {
   "cell_type": "markdown",
   "metadata": {},
   "source": [
    "### 6.2 Modeling "
   ]
  },
  {
   "cell_type": "code",
   "execution_count": 113,
   "metadata": {},
   "outputs": [],
   "source": [
    "# Logistic Regression Pipeline\n",
    "logistic_pipe = Pipeline([('preprocessing', preprocess), ('classifier', LogisticRegression())])\n",
    "\n",
    "# Support Vector Machine Pipeline\n",
    "svc_pipe = Pipeline([('preprocessing', preprocess), ('classifier', SVC())])\n",
    "\n",
    "# Decision Tree Pipeline\n",
    "tree_pipe = Pipeline([('preprocessing', preprocess), ('classifier', DecisionTreeClassifier())])\n",
    "\n",
    "# Random Forest Pipeline\n",
    "forest_pipe = Pipeline([('preprocessing', preprocess), ('classifier', RandomForestClassifier())])\n",
    "\n",
    "# K-Nearest Neighbors Pipeline\n",
    "knn_pipe = Pipeline([('preprocessing', preprocess), ('classifier', KNeighborsClassifier())])"
   ]
  },
  {
   "cell_type": "markdown",
   "metadata": {},
   "source": [
    "Membuat dictionary parameter"
   ]
  },
  {
   "cell_type": "code",
   "execution_count": 114,
   "metadata": {},
   "outputs": [],
   "source": [
    "# Logistic Regression\n",
    "logistic_params = {'classifier__C': [0.001, 0.01, 0.1, 1, 10, 100, 1000], \n",
    "                   'classifier__penalty': ['l1', 'l2'],\n",
    "                   'classifier__solver': ['liblinear', 'saga'],\n",
    "                   'classifier__max_iter': [1000, 10000]}\n",
    "\n",
    "# SVC\n",
    "svc_params = {'classifier__C': [0.1, 1, 10], \n",
    "              'classifier__kernel': ['linear', 'rbf', 'poly'],\n",
    "              'classifier__gamma': ['auto', 'scale']}\n",
    "\n",
    "# Decision Tree\n",
    "tree_params = {'classifier__criterion': ['gini', 'entropy'],\n",
    "               'classifier__max_depth': [2, 3, 4, 5, 6], \n",
    "               'classifier__min_samples_split': [2, 3, 4, 5, 6],\n",
    "               'classifier__min_samples_leaf': [2, 3, 4, 5, 6]}\n",
    "\n",
    "# Random Forest\n",
    "forest_params = {'classifier__criterion': ['gini', 'entropy'],\n",
    "                 'classifier__max_features': ['auto', 'sqrt', 'log2'],\n",
    "                 'classifier__n_estimators': [100, 150, 200, 250, 300]}\n",
    "\n",
    "# KNN\n",
    "knn_params = {'classifier__n_neighbors': [3, 5, 7, 9], \n",
    "              'classifier__weights': ['uniform', 'distance'], \n",
    "              'classifier__algorithm': ['auto', 'ball_tree', 'kd_tree', 'brute']}"
   ]
  },
  {
   "cell_type": "code",
   "execution_count": 115,
   "metadata": {},
   "outputs": [],
   "source": [
    "logistic = GridSearchCV(logistic_pipe, param_grid=logistic_params, cv=5, n_jobs=-1).fit(X_train, y_train)\n",
    "svc = GridSearchCV(svc_pipe, param_grid=svc_params, cv=5, n_jobs=-1).fit(X_train, y_train)\n",
    "tree = GridSearchCV(tree_pipe, param_grid=tree_params, cv=5, n_jobs=-1).fit(X_train, y_train)\n",
    "forest = GridSearchCV(forest_pipe, param_grid=forest_params, cv=5, n_jobs=-1).fit(X_train, y_train)\n",
    "knn = GridSearchCV(knn_pipe, param_grid=knn_params, cv=5, n_jobs=-1).fit(X_train, y_train)"
   ]
  },
  {
   "cell_type": "markdown",
   "metadata": {},
   "source": [
    "# 7. Model Training"
   ]
  },
  {
   "cell_type": "markdown",
   "metadata": {},
   "source": [
    "### 7.1 Time Training"
   ]
  },
  {
   "cell_type": "code",
   "execution_count": 116,
   "metadata": {},
   "outputs": [
    {
     "name": "stdout",
     "output_type": "stream",
     "text": [
      "7.09 ms ± 247 µs per loop (mean ± std. dev. of 7 runs, 100 loops each)\n",
      "26.1 ms ± 329 µs per loop (mean ± std. dev. of 7 runs, 10 loops each)\n",
      "7.28 ms ± 592 µs per loop (mean ± std. dev. of 7 runs, 100 loops each)\n",
      "217 ms ± 20.4 ms per loop (mean ± std. dev. of 7 runs, 1 loop each)\n",
      "6.05 ms ± 486 µs per loop (mean ± std. dev. of 7 runs, 100 loops each)\n"
     ]
    }
   ],
   "source": [
    "%timeit logistic_pipe.fit(X_train, y_train)\n",
    "%timeit svc_pipe.fit(X_train, y_train)\n",
    "%timeit tree_pipe.fit(X_train, y_train)\n",
    "%timeit forest_pipe.fit(X_train, y_train)\n",
    "%timeit knn_pipe.fit(X_train, y_train)"
   ]
  },
  {
   "cell_type": "code",
   "execution_count": 117,
   "metadata": {},
   "outputs": [
    {
     "name": "stdout",
     "output_type": "stream",
     "text": [
      "-------Logistic Regression Best Hyperparameter-------\n",
      "{'classifier__C': 0.1, 'classifier__max_iter': 1000, 'classifier__penalty': 'l2', 'classifier__solver': 'liblinear'}\n",
      "\n",
      "-------Support Vector Machine Best Hyperparameter-------\n",
      "{'classifier__C': 1, 'classifier__gamma': 'auto', 'classifier__kernel': 'rbf'}\n",
      "\n",
      "-------Decision Tree Best Hyperparameter-------\n",
      "{'classifier__criterion': 'entropy', 'classifier__max_depth': 2, 'classifier__min_samples_leaf': 2, 'classifier__min_samples_split': 2}\n",
      "\n",
      "-------Random Forest Best Hyperparameter-------\n",
      "{'classifier__criterion': 'entropy', 'classifier__max_features': 'auto', 'classifier__n_estimators': 100}\n",
      "\n",
      "-------K-Nearest Neighbors Best Hyperparameter-------\n",
      "{'classifier__algorithm': 'auto', 'classifier__n_neighbors': 9, 'classifier__weights': 'distance'}\n"
     ]
    }
   ],
   "source": [
    "best_logistic = logistic.best_estimator_\n",
    "print('-------Logistic Regression Best Hyperparameter-------')\n",
    "print(logistic.best_params_)\n",
    "\n",
    "best_svc = svc.best_estimator_\n",
    "print('\\n-------Support Vector Machine Best Hyperparameter-------')\n",
    "print(svc.best_params_)\n",
    "\n",
    "best_tree = tree.best_estimator_\n",
    "print('\\n-------Decision Tree Best Hyperparameter-------')\n",
    "print(tree.best_params_)\n",
    "\n",
    "best_forest = forest.best_estimator_\n",
    "print('\\n-------Random Forest Best Hyperparameter-------')\n",
    "print(forest.best_params_)\n",
    "\n",
    "best_knn = knn.best_estimator_\n",
    "print('\\n-------K-Nearest Neighbors Best Hyperparameter-------')\n",
    "print(knn.best_params_)"
   ]
  },
  {
   "cell_type": "markdown",
   "metadata": {},
   "source": [
    "### 7.2 Model Training"
   ]
  },
  {
   "cell_type": "code",
   "execution_count": 118,
   "metadata": {},
   "outputs": [
    {
     "name": "stdout",
     "output_type": "stream",
     "text": [
      "logistic_pipe\n",
      "recall - All - Cross Validation  :  [0.3030303  0.33846154 0.41538462 0.43076923 0.36923077]\n",
      "recall - Mean - Cross Validation :  0.3713752913752914\n",
      "recall - Std - Cross Validation  :  0.04737807968768073\n",
      "recall - Range of Test-Set       :  0.3239972116876107 - 0.4187533710629721\n",
      "--------------------------------------------------\n",
      "svc_pipe\n",
      "recall - All - Cross Validation  :  [0.22727273 0.29230769 0.15384615 0.33846154 0.23076923]\n",
      "recall - Mean - Cross Validation :  0.24853146853146857\n",
      "recall - Std - Cross Validation  :  0.06282756597707527\n",
      "recall - Range of Test-Set       :  0.18570390255439329 - 0.31135903450854385\n",
      "--------------------------------------------------\n",
      "tree_pipe\n",
      "recall - All - Cross Validation  :  [0.40909091 0.46153846 0.55384615 0.41538462 0.43076923]\n",
      "recall - Mean - Cross Validation :  0.45412587412587413\n",
      "recall - Std - Cross Validation  :  0.05305402271852191\n",
      "recall - Range of Test-Set       :  0.40107185140735224 - 0.507179896844396\n",
      "--------------------------------------------------\n",
      "forest_pipe\n",
      "recall - All - Cross Validation  :  [0.25757576 0.50769231 0.49230769 0.38461538 0.33846154]\n",
      "recall - Mean - Cross Validation :  0.3961305361305361\n",
      "recall - Std - Cross Validation  :  0.0941826023331841\n",
      "recall - Range of Test-Set       :  0.301947933797352 - 0.4903131384637202\n",
      "--------------------------------------------------\n",
      "knn_pipe\n",
      "recall - All - Cross Validation  :  [0.25757576 0.46153846 0.35384615 0.36923077 0.38461538]\n",
      "recall - Mean - Cross Validation :  0.36536130536130534\n",
      "recall - Std - Cross Validation  :  0.06540039864516431\n",
      "recall - Range of Test-Set       :  0.29996090671614106 - 0.4307617040064696\n",
      "--------------------------------------------------\n",
      "best model: tree_pipe\n",
      "cross-val mean: 0.45412587412587413\n"
     ]
    }
   ],
   "source": [
    "from sklearn.model_selection import cross_val_score\n",
    "from sklearn.model_selection import StratifiedKFold\n",
    "\n",
    "cv_log_model = cross_val_score(logistic_pipe, X_train, y_train, cv=5, scoring=\"recall\")\n",
    "cv_svm_model = cross_val_score(svc_pipe, X_train, y_train, cv=5, scoring=\"recall\")\n",
    "cv_dt_model = cross_val_score(tree_pipe, X_train, y_train, cv=5, scoring=\"recall\")\n",
    "cv_rf_model = cross_val_score(forest_pipe, X_train, y_train, cv=5, scoring=\"recall\")\n",
    "cv_knn_model = cross_val_score(knn_pipe, X_train, y_train, cv=5, scoring=\"recall\")\n",
    "\n",
    "name_model = []\n",
    "cv_scores=0\n",
    "for cv,name in zip([cv_log_model,cv_svm_model,cv_dt_model,cv_rf_model,cv_knn_model],['logistic_pipe','svc_pipe','tree_pipe','forest_pipe','knn_pipe']):\n",
    "    print(name)\n",
    "    print('recall - All - Cross Validation  : ', cv)\n",
    "    print('recall - Mean - Cross Validation : ', cv.mean())\n",
    "    print('recall - Std - Cross Validation  : ', cv.std())\n",
    "    print('recall - Range of Test-Set       : ', (cv.mean()-cv.std()) , '-', (cv.mean()+cv.std()))\n",
    "    print('-'*50)\n",
    "    if cv.mean()>cv_scores:\n",
    "        cv_scores = cv.mean()\n",
    "        name_model = name\n",
    "    else:\n",
    "        pass\n",
    "print('best model:', name_model)\n",
    "print('cross-val mean:', cv_scores)"
   ]
  },
  {
   "cell_type": "markdown",
   "metadata": {},
   "source": [
    "Best model yang diperoleh dengan menggunakan Cross Validatian adalah tree_pipe. Selanjutnya akan melakukan hyperparameter tuning dengan GridSearchCV()"
   ]
  },
  {
   "cell_type": "markdown",
   "metadata": {},
   "source": [
    "### 7.3 Model Tuning"
   ]
  },
  {
   "cell_type": "markdown",
   "metadata": {},
   "source": [
    "# 8. Model Evaluation"
   ]
  },
  {
   "cell_type": "markdown",
   "metadata": {},
   "source": [
    "### 8.1 Evaluasi"
   ]
  },
  {
   "cell_type": "markdown",
   "metadata": {},
   "source": [
    "Model yang sudah dilakukan training akan dievaluasi menggunakan Metric evaluation F1-score dan ROC-AUC"
   ]
  },
  {
   "cell_type": "markdown",
   "metadata": {},
   "source": [
    "Membuat dataframe"
   ]
  },
  {
   "cell_type": "code",
   "execution_count": 119,
   "metadata": {},
   "outputs": [],
   "source": [
    "evaluations = pd.DataFrame(columns=['model', 'training_score', 'test_score', 'macro_f1_score', 'roc_auc_score'])"
   ]
  },
  {
   "cell_type": "code",
   "execution_count": 120,
   "metadata": {},
   "outputs": [],
   "source": [
    "evaluations.loc[0] = ['Logistic Regression', round(best_logistic.score(X_train, y_train), 3), round(best_logistic.score(X_test, y_test), 3), round(f1_score(y_test, best_logistic.predict(X_test), average='macro'), 3), round(roc_auc_score(y_test, best_logistic.predict(X_test)), 3)]\n",
    "evaluations.loc[1] = ['SVC', round(best_svc.score(X_train, y_train), 3), round(best_svc.score(X_test, y_test), 3), round(f1_score(y_test, best_svc.predict(X_test), average='macro'), 3), round(roc_auc_score(y_test, best_svc.predict(X_test)), 3)]\n",
    "evaluations.loc[2] = ['Decision Tree', round(best_tree.score(X_train, y_train), 3), round(best_tree.score(X_test, y_test), 3), round(f1_score(y_test, best_tree.predict(X_test), average='macro'), 3), round(roc_auc_score(y_test, best_tree.predict(X_test)), 3)]\n",
    "evaluations.loc[3] = ['Random Forest', round(best_forest.score(X_train, y_train), 3), round(best_forest.score(X_test, y_test), 3), round(f1_score(y_test, best_forest.predict(X_test), average='macro'), 3), round(roc_auc_score(y_test, best_forest.predict(X_test)), 3)]\n",
    "evaluations.loc[4] = ['KNN', round(best_knn.score(X_train, y_train), 3), round(best_knn.score(X_test, y_test), 3), round(f1_score(y_test, best_knn.predict(X_test), average='macro'), 3), round(roc_auc_score(y_test, best_knn.predict(X_test)), 3)]"
   ]
  },
  {
   "cell_type": "code",
   "execution_count": 121,
   "metadata": {},
   "outputs": [],
   "source": [
    "logistic_false_positive_rate_test, logistic_true_positive_rate_test, logistic_thresholds_test = roc_curve(y_test, best_logistic.predict(X_test))\n",
    "svc_false_positive_rate_test, svc_true_positive_rate_test, svc_thresholds_test = roc_curve(y_test, best_svc.predict(X_test))\n",
    "tree_false_positive_rate_test, tree_true_positive_rate_test, tree_thresholds_test = roc_curve(y_test, best_tree.predict(X_test))\n",
    "forest_false_positive_rate_test, forest_true_positive_rate_test, forest_thresholds_test = roc_curve(y_test, best_forest.predict(X_test))\n",
    "knn_false_positive_rate_test, knn_true_positive_rate_test, knn_thresholds_test = roc_curve(y_test, best_knn.predict(X_test))\n",
    "\n",
    "confusions = [confusion_matrix(y_test, best_logistic.predict(X_test)),\n",
    "              confusion_matrix(y_test, best_svc.predict(X_test)),\n",
    "              confusion_matrix(y_test, best_tree.predict(X_test)),\n",
    "              confusion_matrix(y_test, best_forest.predict(X_test)),\n",
    "              confusion_matrix(y_test, best_knn.predict(X_test)),]"
   ]
  },
  {
   "cell_type": "code",
   "execution_count": 122,
   "metadata": {},
   "outputs": [
    {
     "data": {
      "image/png": "[encoded data removed]",
      "text/plain": [
       "<Figure size 2500x600 with 1 Axes>"
      ]
     },
     "metadata": {},
     "output_type": "display_data"
    }
   ],
   "source": [
    "plt.figure(figsize=(25, 6))\n",
    "plt.plot(logistic_false_positive_rate_test, logistic_true_positive_rate_test, color='red', label=f'Logistic Regression (AUC = {roc_auc_score(y_test, best_logistic.predict(X_test)):.3f})')\n",
    "plt.plot(svc_false_positive_rate_test, svc_true_positive_rate_test, color='blue', label=f'SVC (AUC = {roc_auc_score(y_test, best_svc.predict(X_test)):.3f})')\n",
    "plt.plot(tree_false_positive_rate_test, tree_true_positive_rate_test, color='green', label=f'Decision Tree (AUC = {roc_auc_score(y_test, best_tree.predict(X_test)):.3f})')\n",
    "plt.plot(forest_false_positive_rate_test, forest_true_positive_rate_test, color='orange', label=f'Random Forest (AUC = {roc_auc_score(y_test, best_forest.predict(X_test)):.3f})')\n",
    "plt.plot(knn_false_positive_rate_test, knn_true_positive_rate_test, color='purple', label=f'KNN (AUC = {roc_auc_score(y_test, best_knn.predict(X_test)):.3f})')\n",
    "plt.plot([0, 1], [0, 1], color='grey', linestyle='--')\n",
    "plt.xlim([0.0, 1.0])\n",
    "plt.ylim([0.0, 1.05])\n",
    "plt.xlabel('False Positive Rate')\n",
    "plt.ylabel('True Positive Rate')\n",
    "plt.title('test Set ROC Curve')\n",
    "plt.legend(loc=\"lower right\")\n",
    "plt.show()"
   ]
  },
  {
   "cell_type": "code",
   "execution_count": 123,
   "metadata": {},
   "outputs": [
    {
     "data": {
      "text/html": [
       "<div>\n",
       "<style scoped>\n",
       "    .dataframe tbody tr th:only-of-type {\n",
       "        vertical-align: middle;\n",
       "    }\n",
       "\n",
       "    .dataframe tbody tr th {\n",
       "        vertical-align: top;\n",
       "    }\n",
       "\n",
       "    .dataframe thead th {\n",
       "        text-align: right;\n",
       "    }\n",
       "</style>\n",
       "<table border=\"1\" class=\"dataframe\">\n",
       "  <thead>\n",
       "    <tr style=\"text-align: right;\">\n",
       "      <th></th>\n",
       "      <th>model</th>\n",
       "      <th>training_score</th>\n",
       "      <th>test_score</th>\n",
       "      <th>macro_f1_score</th>\n",
       "      <th>roc_auc_score</th>\n",
       "    </tr>\n",
       "  </thead>\n",
       "  <tbody>\n",
       "    <tr>\n",
       "      <th>4</th>\n",
       "      <td>KNN</td>\n",
       "      <td>1.000</td>\n",
       "      <td>0.575</td>\n",
       "      <td>0.571</td>\n",
       "      <td>0.571</td>\n",
       "    </tr>\n",
       "    <tr>\n",
       "      <th>3</th>\n",
       "      <td>Random Forest</td>\n",
       "      <td>1.000</td>\n",
       "      <td>0.546</td>\n",
       "      <td>0.540</td>\n",
       "      <td>0.541</td>\n",
       "    </tr>\n",
       "    <tr>\n",
       "      <th>2</th>\n",
       "      <td>Decision Tree</td>\n",
       "      <td>0.573</td>\n",
       "      <td>0.500</td>\n",
       "      <td>0.489</td>\n",
       "      <td>0.491</td>\n",
       "    </tr>\n",
       "    <tr>\n",
       "      <th>0</th>\n",
       "      <td>Logistic Regression</td>\n",
       "      <td>0.542</td>\n",
       "      <td>0.494</td>\n",
       "      <td>0.460</td>\n",
       "      <td>0.475</td>\n",
       "    </tr>\n",
       "    <tr>\n",
       "      <th>1</th>\n",
       "      <td>SVC</td>\n",
       "      <td>0.583</td>\n",
       "      <td>0.494</td>\n",
       "      <td>0.436</td>\n",
       "      <td>0.469</td>\n",
       "    </tr>\n",
       "  </tbody>\n",
       "</table>\n",
       "</div>"
      ],
      "text/plain": [
       "                 model  training_score  test_score  macro_f1_score  \\\n",
       "4                  KNN           1.000       0.575           0.571   \n",
       "3        Random Forest           1.000       0.546           0.540   \n",
       "2        Decision Tree           0.573       0.500           0.489   \n",
       "0  Logistic Regression           0.542       0.494           0.460   \n",
       "1                  SVC           0.583       0.494           0.436   \n",
       "\n",
       "   roc_auc_score  \n",
       "4          0.571  \n",
       "3          0.541  \n",
       "2          0.491  \n",
       "0          0.475  \n",
       "1          0.469  "
      ]
     },
     "execution_count": 123,
     "metadata": {},
     "output_type": "execute_result"
    }
   ],
   "source": [
    "evaluations.sort_values(by='roc_auc_score', ascending=False)"
   ]
  },
  {
   "cell_type": "markdown",
   "metadata": {},
   "source": [
    "Karnea KNN mendapatkan score paling tinggi maka akan dilakukan evaluasi kembali dengan best parameter yang sudah didapatkan sebelumnya"
   ]
  },
  {
   "cell_type": "code",
   "execution_count": 124,
   "metadata": {},
   "outputs": [
    {
     "name": "stdout",
     "output_type": "stream",
     "text": [
      "Training Score: 1.0\n",
      "test Score: 0.5459770114942529\n",
      "------------------------------------------------------\n",
      "              precision    recall  f1-score   support\n",
      "\n",
      "           0       0.58      0.60      0.59        95\n",
      "           1       0.50      0.48      0.49        79\n",
      "\n",
      "    accuracy                           0.55       174\n",
      "   macro avg       0.54      0.54      0.54       174\n",
      "weighted avg       0.54      0.55      0.55       174\n",
      "\n"
     ]
    }
   ],
   "source": [
    "print('Training Score:', best_forest.score(X_train, y_train))\n",
    "print('test Score:', best_forest.score(X_test, y_test))\n",
    "print('------------------------------------------------------')\n",
    "print(classification_report(y_test, best_forest.predict(X_test)))\n",
    "best_forest_confusion_matrix = confusion_matrix(y_test, best_forest.predict(X_test))"
   ]
  },
  {
   "cell_type": "code",
   "execution_count": 125,
   "metadata": {},
   "outputs": [
    {
     "name": "stdout",
     "output_type": "stream",
     "text": [
      "Training Score: 1.0\n",
      "test Score: 0.5747126436781609\n",
      "------------------------------------------------------\n",
      "              precision    recall  f1-score   support\n",
      "\n",
      "           0       0.61      0.61      0.61        95\n",
      "           1       0.53      0.53      0.53        79\n",
      "\n",
      "    accuracy                           0.57       174\n",
      "   macro avg       0.57      0.57      0.57       174\n",
      "weighted avg       0.57      0.57      0.57       174\n",
      "\n"
     ]
    }
   ],
   "source": [
    "print('Training Score:', best_knn.score(X_train, y_train))\n",
    "print('test Score:', best_knn.score(X_test, y_test))\n",
    "print('------------------------------------------------------')\n",
    "print(classification_report(y_test, best_knn.predict(X_test)))\n",
    "best_knn_confusion_matrix = confusion_matrix(y_test, best_knn.predict(X_test))"
   ]
  },
  {
   "cell_type": "code",
   "execution_count": 126,
   "metadata": {},
   "outputs": [
    {
     "name": "stdout",
     "output_type": "stream",
     "text": [
      "Training Score: 0.5726618705035971\n",
      "test Score: 0.5\n",
      "------------------------------------------------------\n",
      "              precision    recall  f1-score   support\n",
      "\n",
      "           0       0.54      0.59      0.56        95\n",
      "           1       0.44      0.39      0.42        79\n",
      "\n",
      "    accuracy                           0.50       174\n",
      "   macro avg       0.49      0.49      0.49       174\n",
      "weighted avg       0.50      0.50      0.50       174\n",
      "\n"
     ]
    }
   ],
   "source": [
    "print('Training Score:', best_tree.score(X_train, y_train))\n",
    "print('test Score:', best_tree.score(X_test, y_test))\n",
    "print('------------------------------------------------------')\n",
    "print(classification_report(y_test, best_tree.predict(X_test)))\n",
    "best_tree_confusion_matrix = confusion_matrix(y_test, best_tree.predict(X_test))"
   ]
  },
  {
   "cell_type": "markdown",
   "metadata": {},
   "source": [
    "### 8.2 Model Analysis"
   ]
  },
  {
   "cell_type": "markdown",
   "metadata": {},
   "source": [
    "Dari kelima model terdapat 2 model yang mengalami overfitting yaitu KNN dan Random forest, mereka dapat memprediksi 100% pada train set sedangkan hanya sekitar 50% pada saat test set ini sanagt tidak seimbang. ketiga model lainnya memiliki nilai yang rendah juga. yang paling rendah adalah svc dengan f1 score dan roc auc adalah 0.436\tdan 0.469. berdasarkan time yang paling cepat adalah knn yaitu 6.8 dan yang paling lama adalah random fores yaitu 241 . \n",
    "\n",
    "**Note** Model sudah di train dan eror namun hasilnya tidak berbeda jauh sehingaa memutuskan menggunakan parameter terbaik berdasarka grid search."
   ]
  },
  {
   "cell_type": "markdown",
   "metadata": {},
   "source": [
    "# 9. Model Saving"
   ]
  },
  {
   "cell_type": "code",
   "execution_count": 127,
   "metadata": {},
   "outputs": [],
   "source": [
    "# Save the Files\n",
    "\n",
    "import joblib\n",
    "import json\n",
    "\n",
    "with open('model_log_reg.pkl', 'wb') as file_1:\n",
    "  joblib.dump(logistic_pipe, file_1)\n",
    "\n",
    "with open('model_tree_reg.pkl', 'wb') as file_1:\n",
    "  joblib.dump(tree_pipe, file_1)\n",
    "\n",
    "with open('model_forest_reg.pkl', 'wb') as file_1:\n",
    "  joblib.dump(forest_pipe, file_1)\n",
    "\n",
    "with open('model_knn_reg.pkl', 'wb') as file_1:\n",
    "  joblib.dump(knn_pipe, file_1)\n",
    "\n",
    "with open('model_svc_reg.pkl', 'wb') as file_1:\n",
    "  joblib.dump(svc_pipe, file_1)\n",
    "\n",
    "with open('model_scaler.pkl', 'wb') as file_2:\n",
    "  joblib.dump(scaler, file_2)\n",
    "\n",
    "with open('model_encoder.pkl', 'wb') as file_3:\n",
    "  joblib.dump(encoder, file_3)\n",
    "\n",
    "with open('list_num_cols.txt', 'w') as file_4:\n",
    "  json.dump(num_columns, file_4)\n",
    "\n",
    "with open('cat_.txt', 'w') as file_5:\n",
    "  json.dump(cat_columns, file_5)"
   ]
  },
  {
   "cell_type": "markdown",
   "metadata": {},
   "source": [
    "# 10. Model Inference"
   ]
  },
  {
   "cell_type": "code",
   "execution_count": 128,
   "metadata": {},
   "outputs": [
    {
     "data": {
      "text/html": [
       "<div>\n",
       "<style scoped>\n",
       "    .dataframe tbody tr th:only-of-type {\n",
       "        vertical-align: middle;\n",
       "    }\n",
       "\n",
       "    .dataframe tbody tr th {\n",
       "        vertical-align: top;\n",
       "    }\n",
       "\n",
       "    .dataframe thead th {\n",
       "        text-align: right;\n",
       "    }\n",
       "</style>\n",
       "<table border=\"1\" class=\"dataframe\">\n",
       "  <thead>\n",
       "    <tr style=\"text-align: right;\">\n",
       "      <th></th>\n",
       "      <th>product_category</th>\n",
       "      <th>sales</th>\n",
       "      <th>price</th>\n",
       "      <th>VAP</th>\n",
       "      <th>country</th>\n",
       "      <th>pet_size</th>\n",
       "      <th>pet_type</th>\n",
       "      <th>rating</th>\n",
       "      <th>re_buy</th>\n",
       "    </tr>\n",
       "  </thead>\n",
       "  <tbody>\n",
       "    <tr>\n",
       "      <th>0</th>\n",
       "      <td>Toys</td>\n",
       "      <td>121</td>\n",
       "      <td>3157</td>\n",
       "      <td>0</td>\n",
       "      <td>USA</td>\n",
       "      <td>small</td>\n",
       "      <td>fish</td>\n",
       "      <td>6</td>\n",
       "      <td>0</td>\n",
       "    </tr>\n",
       "    <tr>\n",
       "      <th>1</th>\n",
       "      <td>Toys</td>\n",
       "      <td>96</td>\n",
       "      <td>460</td>\n",
       "      <td>0</td>\n",
       "      <td>India</td>\n",
       "      <td>extra_large</td>\n",
       "      <td>dog</td>\n",
       "      <td>9</td>\n",
       "      <td>0</td>\n",
       "    </tr>\n",
       "    <tr>\n",
       "      <th>2</th>\n",
       "      <td>Accessory</td>\n",
       "      <td>217</td>\n",
       "      <td>13270</td>\n",
       "      <td>1</td>\n",
       "      <td>India</td>\n",
       "      <td>small</td>\n",
       "      <td>cat</td>\n",
       "      <td>10</td>\n",
       "      <td>1</td>\n",
       "    </tr>\n",
       "    <tr>\n",
       "      <th>3</th>\n",
       "      <td>Equipment</td>\n",
       "      <td>161</td>\n",
       "      <td>17150</td>\n",
       "      <td>1</td>\n",
       "      <td>Vietnam</td>\n",
       "      <td>small</td>\n",
       "      <td>fish</td>\n",
       "      <td>7</td>\n",
       "      <td>1</td>\n",
       "    </tr>\n",
       "    <tr>\n",
       "      <th>4</th>\n",
       "      <td>Equipment</td>\n",
       "      <td>154</td>\n",
       "      <td>17445</td>\n",
       "      <td>1</td>\n",
       "      <td>Belgium</td>\n",
       "      <td>medium</td>\n",
       "      <td>cat</td>\n",
       "      <td>7</td>\n",
       "      <td>0</td>\n",
       "    </tr>\n",
       "    <tr>\n",
       "      <th>5</th>\n",
       "      <td>Supplements</td>\n",
       "      <td>25</td>\n",
       "      <td>11120</td>\n",
       "      <td>0</td>\n",
       "      <td>India</td>\n",
       "      <td>small</td>\n",
       "      <td>cat</td>\n",
       "      <td>10</td>\n",
       "      <td>1</td>\n",
       "    </tr>\n",
       "    <tr>\n",
       "      <th>6</th>\n",
       "      <td>Toys</td>\n",
       "      <td>116</td>\n",
       "      <td>8397</td>\n",
       "      <td>0</td>\n",
       "      <td>Belgium</td>\n",
       "      <td>medium</td>\n",
       "      <td>cat</td>\n",
       "      <td>1</td>\n",
       "      <td>1</td>\n",
       "    </tr>\n",
       "    <tr>\n",
       "      <th>7</th>\n",
       "      <td>Medicine</td>\n",
       "      <td>49</td>\n",
       "      <td>17059</td>\n",
       "      <td>1</td>\n",
       "      <td>India</td>\n",
       "      <td>large</td>\n",
       "      <td>dog</td>\n",
       "      <td>10</td>\n",
       "      <td>0</td>\n",
       "    </tr>\n",
       "    <tr>\n",
       "      <th>8</th>\n",
       "      <td>Snack</td>\n",
       "      <td>102</td>\n",
       "      <td>8761</td>\n",
       "      <td>1</td>\n",
       "      <td>USA</td>\n",
       "      <td>small</td>\n",
       "      <td>fish</td>\n",
       "      <td>6</td>\n",
       "      <td>0</td>\n",
       "    </tr>\n",
       "    <tr>\n",
       "      <th>9</th>\n",
       "      <td>Supplements</td>\n",
       "      <td>186</td>\n",
       "      <td>8065</td>\n",
       "      <td>0</td>\n",
       "      <td>India</td>\n",
       "      <td>extra_small</td>\n",
       "      <td>dog</td>\n",
       "      <td>2</td>\n",
       "      <td>1</td>\n",
       "    </tr>\n",
       "  </tbody>\n",
       "</table>\n",
       "</div>"
      ],
      "text/plain": [
       "  product_category  sales  price  VAP  country     pet_size pet_type  rating  \\\n",
       "0             Toys    121   3157    0      USA        small     fish       6   \n",
       "1             Toys     96    460    0    India  extra_large      dog       9   \n",
       "2        Accessory    217  13270    1    India        small      cat      10   \n",
       "3        Equipment    161  17150    1  Vietnam        small     fish       7   \n",
       "4        Equipment    154  17445    1  Belgium       medium      cat       7   \n",
       "5      Supplements     25  11120    0    India        small      cat      10   \n",
       "6             Toys    116   8397    0  Belgium       medium      cat       1   \n",
       "7         Medicine     49  17059    1    India        large      dog      10   \n",
       "8            Snack    102   8761    1      USA        small     fish       6   \n",
       "9      Supplements    186   8065    0    India  extra_small      dog       2   \n",
       "\n",
       "   re_buy  \n",
       "0       0  \n",
       "1       0  \n",
       "2       1  \n",
       "3       1  \n",
       "4       0  \n",
       "5       1  \n",
       "6       1  \n",
       "7       0  \n",
       "8       0  \n",
       "9       1  "
      ]
     },
     "execution_count": 128,
     "metadata": {},
     "output_type": "execute_result"
    }
   ],
   "source": [
    "data_inf"
   ]
  },
  {
   "cell_type": "code",
   "execution_count": 129,
   "metadata": {},
   "outputs": [],
   "source": [
    "X_inf = data_inf.drop(['re_buy'], axis=1)\n",
    "y_inf = data_inf['re_buy']"
   ]
  },
  {
   "cell_type": "code",
   "execution_count": 130,
   "metadata": {},
   "outputs": [
    {
     "data": {
      "text/html": [
       "<div>\n",
       "<style scoped>\n",
       "    .dataframe tbody tr th:only-of-type {\n",
       "        vertical-align: middle;\n",
       "    }\n",
       "\n",
       "    .dataframe tbody tr th {\n",
       "        vertical-align: top;\n",
       "    }\n",
       "\n",
       "    .dataframe thead th {\n",
       "        text-align: right;\n",
       "    }\n",
       "</style>\n",
       "<table border=\"1\" class=\"dataframe\">\n",
       "  <thead>\n",
       "    <tr style=\"text-align: right;\">\n",
       "      <th></th>\n",
       "      <th>Actual</th>\n",
       "      <th>Forest</th>\n",
       "      <th>KNN</th>\n",
       "    </tr>\n",
       "  </thead>\n",
       "  <tbody>\n",
       "    <tr>\n",
       "      <th>2</th>\n",
       "      <td>1.0</td>\n",
       "      <td>1</td>\n",
       "      <td>0</td>\n",
       "    </tr>\n",
       "    <tr>\n",
       "      <th>3</th>\n",
       "      <td>1.0</td>\n",
       "      <td>1</td>\n",
       "      <td>1</td>\n",
       "    </tr>\n",
       "    <tr>\n",
       "      <th>5</th>\n",
       "      <td>1.0</td>\n",
       "      <td>0</td>\n",
       "      <td>0</td>\n",
       "    </tr>\n",
       "    <tr>\n",
       "      <th>6</th>\n",
       "      <td>1.0</td>\n",
       "      <td>0</td>\n",
       "      <td>1</td>\n",
       "    </tr>\n",
       "    <tr>\n",
       "      <th>9</th>\n",
       "      <td>1.0</td>\n",
       "      <td>1</td>\n",
       "      <td>1</td>\n",
       "    </tr>\n",
       "  </tbody>\n",
       "</table>\n",
       "</div>"
      ],
      "text/plain": [
       "   Actual  Forest  KNN\n",
       "2     1.0       1    0\n",
       "3     1.0       1    1\n",
       "5     1.0       0    0\n",
       "6     1.0       0    1\n",
       "9     1.0       1    1"
      ]
     },
     "execution_count": 130,
     "metadata": {},
     "output_type": "execute_result"
    }
   ],
   "source": [
    "forest_pred = pd.DataFrame(best_forest.predict(X_test))\n",
    "knn_pred = pd.DataFrame(best_knn.predict(X_test))\n",
    "\n",
    "preds = pd.concat([data_inf['re_buy'].reset_index(drop=True),  forest_pred, knn_pred], axis=1)\n",
    "preds.columns = ['Actual', 'Forest', 'KNN']\n",
    "\n",
    "# Showing the top 5 rows of the predictions dataframe where actual values are 1\n",
    "preds[preds.Actual == 1].head(5)"
   ]
  },
  {
   "cell_type": "markdown",
   "metadata": {},
   "source": [
    "# 11. Pengambilan Kesimpulan"
   ]
  },
  {
   "cell_type": "markdown",
   "metadata": {},
   "source": [
    "### Overall Analis"
   ]
  },
  {
   "cell_type": "markdown",
   "metadata": {},
   "source": [
    "Based on EDA:\n",
    "    - Dataset Dataset yang digunakan adalah data pet store record pada tahun 2020 yang terdiri dari 879 dengan jumlah kolom 11\n",
    "    - Dataset ini merupakan classifikasi dimana nila 0 artinya tidak membeli ulang, dan 1 artinya membeli ulang\n",
    "    - Terdapat beberapa kategori produk seperti equipment, snack, medicine, toys dan laiinya\n",
    "    - Ukuran hewan disesuikan dengan jenis hewannya\n",
    "    - Berdasarkan heatmap semua kategori sangat lemah korelasinya atau bisa dikatakan tidak adanya korelasi\n",
    "\n",
    "Based on Model:\n",
    "Dari kelima model yang digunakan dapat disimpulkan:\n",
    "    - Model yang memiliki waktu time trining paling cepat adalah KNN paling lama Random forest\n",
    "    - akurasi paling besar adalah KNN yaitu 0.57\n",
    "    - Nilai Recall dan F1 score adalah KNN yaitu 0.57\n",
    "    - Nilai roc auc yang tertinggi adalah KNN yaitu 0.57\n",
    "    - Jika dilihat KNN memiliki nilai paling bagus diatara yang lainnya namun harus diingat bahwa KNN overfitting atara train dan testnya cukup jauh\n",
    "\n",
    "Improvment:\n",
    "    - Model yang diperoleh bisa dikatan belum dapat dipercaya dilihat berdasarkan tingkat akurasi yang rendah selain itu nilai recall dan f1 yang rendah juga. Mungkin beberapa model sensitif terhadap outlier namun berdasarkan EDA dan Preprocessing data ini tidak memiliki outlier sehingga saya asumsikan karena kurangnya data atau data yang dimiliki sangat sedikit sehinga data tersebut masih belum bisa mewakilkan data untuk diprediksi.\n",
    "    - untuk meningkatkan model: menambahkan jumlah data, menambahkan feature seperti diskon, pelayanan konsumen, tingkat kepuasan konseumen, mencari algoritma lain yang lebih tepat dan parameter yang tepat."
   ]
  },
  {
   "cell_type": "markdown",
   "metadata": {},
   "source": [
    "### Referensi\n",
    "\n",
    "- http://skripsi.narotama.ac.id/files/KECENDERUNGAN%20PEMBELIAN%20KEMBALI%20BERBAGAI%20FAKTOR%20PENENTU%20DAN%20PRODUK%20FASTFOOD.pdf\n",
    "- https://www.trivusi.web.id/2022/06/algoritma-knn.html\n",
    "- https://towardsdatascience.com how-to-use-sklearn-pipelines-for-ridiculously-neat-code-a61ab66ca90d"
   ]
  }
 ],
 "metadata": {
  "kernelspec": {
   "display_name": "Python 3.10.7 64-bit",
   "language": "python",
   "name": "python3"
  },
  "language_info": {
   "codemirror_mode": {
    "name": "ipython",
    "version": 3
   },
   "file_extension": ".py",
   "mimetype": "text/x-python",
   "name": "python",
   "nbconvert_exporter": "python",
   "pygments_lexer": "ipython3",
   "version": "3.10.7"
  },
  "orig_nbformat": 4,
  "vscode": {
   "interpreter": {
    "hash": "5591f2605832b160740231f2510d2dbb1d1e15936a10686c27038ab251cb1772"
   }
  }
 },
 "nbformat": 4,
 "nbformat_minor": 2
}
